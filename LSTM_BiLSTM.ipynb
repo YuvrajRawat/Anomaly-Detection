{
  "nbformat": 4,
  "nbformat_minor": 0,
  "metadata": {
    "colab": {
      "provenance": [],
      "gpuType": "T4"
    },
    "kernelspec": {
      "name": "python3",
      "display_name": "Python 3"
    },
    "language_info": {
      "name": "python"
    },
    "accelerator": "GPU"
  },
  "cells": [
    {
      "cell_type": "code",
      "source": [
        "pip install --upgrade tensorflow"
      ],
      "metadata": {
        "colab": {
          "base_uri": "https://localhost:8080/"
        },
        "id": "9tSrWl9rBLsQ",
        "outputId": "1c2bd8ee-ed7f-4278-b5c0-ee1e285d8c4a"
      },
      "execution_count": null,
      "outputs": [
        {
          "output_type": "stream",
          "name": "stdout",
          "text": [
            "Requirement already satisfied: tensorflow in /usr/local/lib/python3.10/dist-packages (2.14.0)\n",
            "Collecting tensorflow\n",
            "  Downloading tensorflow-2.15.0-cp310-cp310-manylinux_2_17_x86_64.manylinux2014_x86_64.whl (475.2 MB)\n",
            "\u001b[2K     \u001b[90m━━━━━━━━━━━━━━━━━━━━━━━━━━━━━━━━━━━━━━━━\u001b[0m \u001b[32m475.2/475.2 MB\u001b[0m \u001b[31m3.5 MB/s\u001b[0m eta \u001b[36m0:00:00\u001b[0m\n",
            "\u001b[?25hRequirement already satisfied: absl-py>=1.0.0 in /usr/local/lib/python3.10/dist-packages (from tensorflow) (1.4.0)\n",
            "Requirement already satisfied: astunparse>=1.6.0 in /usr/local/lib/python3.10/dist-packages (from tensorflow) (1.6.3)\n",
            "Requirement already satisfied: flatbuffers>=23.5.26 in /usr/local/lib/python3.10/dist-packages (from tensorflow) (23.5.26)\n",
            "Requirement already satisfied: gast!=0.5.0,!=0.5.1,!=0.5.2,>=0.2.1 in /usr/local/lib/python3.10/dist-packages (from tensorflow) (0.5.4)\n",
            "Requirement already satisfied: google-pasta>=0.1.1 in /usr/local/lib/python3.10/dist-packages (from tensorflow) (0.2.0)\n",
            "Requirement already satisfied: h5py>=2.9.0 in /usr/local/lib/python3.10/dist-packages (from tensorflow) (3.9.0)\n",
            "Requirement already satisfied: libclang>=13.0.0 in /usr/local/lib/python3.10/dist-packages (from tensorflow) (16.0.6)\n",
            "Requirement already satisfied: ml-dtypes~=0.2.0 in /usr/local/lib/python3.10/dist-packages (from tensorflow) (0.2.0)\n",
            "Requirement already satisfied: numpy<2.0.0,>=1.23.5 in /usr/local/lib/python3.10/dist-packages (from tensorflow) (1.23.5)\n",
            "Requirement already satisfied: opt-einsum>=2.3.2 in /usr/local/lib/python3.10/dist-packages (from tensorflow) (3.3.0)\n",
            "Requirement already satisfied: packaging in /usr/local/lib/python3.10/dist-packages (from tensorflow) (23.2)\n",
            "Requirement already satisfied: protobuf!=4.21.0,!=4.21.1,!=4.21.2,!=4.21.3,!=4.21.4,!=4.21.5,<5.0.0dev,>=3.20.3 in /usr/local/lib/python3.10/dist-packages (from tensorflow) (3.20.3)\n",
            "Requirement already satisfied: setuptools in /usr/local/lib/python3.10/dist-packages (from tensorflow) (67.7.2)\n",
            "Requirement already satisfied: six>=1.12.0 in /usr/local/lib/python3.10/dist-packages (from tensorflow) (1.16.0)\n",
            "Requirement already satisfied: termcolor>=1.1.0 in /usr/local/lib/python3.10/dist-packages (from tensorflow) (2.3.0)\n",
            "Requirement already satisfied: typing-extensions>=3.6.6 in /usr/local/lib/python3.10/dist-packages (from tensorflow) (4.5.0)\n",
            "Requirement already satisfied: wrapt<1.15,>=1.11.0 in /usr/local/lib/python3.10/dist-packages (from tensorflow) (1.14.1)\n",
            "Requirement already satisfied: tensorflow-io-gcs-filesystem>=0.23.1 in /usr/local/lib/python3.10/dist-packages (from tensorflow) (0.34.0)\n",
            "Requirement already satisfied: grpcio<2.0,>=1.24.3 in /usr/local/lib/python3.10/dist-packages (from tensorflow) (1.59.2)\n",
            "Collecting tensorboard<2.16,>=2.15 (from tensorflow)\n",
            "  Downloading tensorboard-2.15.1-py3-none-any.whl (5.5 MB)\n",
            "\u001b[2K     \u001b[90m━━━━━━━━━━━━━━━━━━━━━━━━━━━━━━━━━━━━━━━━\u001b[0m \u001b[32m5.5/5.5 MB\u001b[0m \u001b[31m77.5 MB/s\u001b[0m eta \u001b[36m0:00:00\u001b[0m\n",
            "\u001b[?25hCollecting tensorflow-estimator<2.16,>=2.15.0 (from tensorflow)\n",
            "  Downloading tensorflow_estimator-2.15.0-py2.py3-none-any.whl (441 kB)\n",
            "\u001b[2K     \u001b[90m━━━━━━━━━━━━━━━━━━━━━━━━━━━━━━━━━━━━━━━━\u001b[0m \u001b[32m442.0/442.0 kB\u001b[0m \u001b[31m34.3 MB/s\u001b[0m eta \u001b[36m0:00:00\u001b[0m\n",
            "\u001b[?25hCollecting keras<2.16,>=2.15.0 (from tensorflow)\n",
            "  Downloading keras-2.15.0-py3-none-any.whl (1.7 MB)\n",
            "\u001b[2K     \u001b[90m━━━━━━━━━━━━━━━━━━━━━━━━━━━━━━━━━━━━━━━━\u001b[0m \u001b[32m1.7/1.7 MB\u001b[0m \u001b[31m68.8 MB/s\u001b[0m eta \u001b[36m0:00:00\u001b[0m\n",
            "\u001b[?25hRequirement already satisfied: wheel<1.0,>=0.23.0 in /usr/local/lib/python3.10/dist-packages (from astunparse>=1.6.0->tensorflow) (0.41.3)\n",
            "Requirement already satisfied: google-auth<3,>=1.6.3 in /usr/local/lib/python3.10/dist-packages (from tensorboard<2.16,>=2.15->tensorflow) (2.17.3)\n",
            "Requirement already satisfied: google-auth-oauthlib<2,>=0.5 in /usr/local/lib/python3.10/dist-packages (from tensorboard<2.16,>=2.15->tensorflow) (1.0.0)\n",
            "Requirement already satisfied: markdown>=2.6.8 in /usr/local/lib/python3.10/dist-packages (from tensorboard<2.16,>=2.15->tensorflow) (3.5.1)\n",
            "Requirement already satisfied: requests<3,>=2.21.0 in /usr/local/lib/python3.10/dist-packages (from tensorboard<2.16,>=2.15->tensorflow) (2.31.0)\n",
            "Requirement already satisfied: tensorboard-data-server<0.8.0,>=0.7.0 in /usr/local/lib/python3.10/dist-packages (from tensorboard<2.16,>=2.15->tensorflow) (0.7.2)\n",
            "Requirement already satisfied: werkzeug>=1.0.1 in /usr/local/lib/python3.10/dist-packages (from tensorboard<2.16,>=2.15->tensorflow) (3.0.1)\n",
            "Requirement already satisfied: cachetools<6.0,>=2.0.0 in /usr/local/lib/python3.10/dist-packages (from google-auth<3,>=1.6.3->tensorboard<2.16,>=2.15->tensorflow) (5.3.2)\n",
            "Requirement already satisfied: pyasn1-modules>=0.2.1 in /usr/local/lib/python3.10/dist-packages (from google-auth<3,>=1.6.3->tensorboard<2.16,>=2.15->tensorflow) (0.3.0)\n",
            "Requirement already satisfied: rsa<5,>=3.1.4 in /usr/local/lib/python3.10/dist-packages (from google-auth<3,>=1.6.3->tensorboard<2.16,>=2.15->tensorflow) (4.9)\n",
            "Requirement already satisfied: requests-oauthlib>=0.7.0 in /usr/local/lib/python3.10/dist-packages (from google-auth-oauthlib<2,>=0.5->tensorboard<2.16,>=2.15->tensorflow) (1.3.1)\n",
            "Requirement already satisfied: charset-normalizer<4,>=2 in /usr/local/lib/python3.10/dist-packages (from requests<3,>=2.21.0->tensorboard<2.16,>=2.15->tensorflow) (3.3.2)\n",
            "Requirement already satisfied: idna<4,>=2.5 in /usr/local/lib/python3.10/dist-packages (from requests<3,>=2.21.0->tensorboard<2.16,>=2.15->tensorflow) (3.4)\n",
            "Requirement already satisfied: urllib3<3,>=1.21.1 in /usr/local/lib/python3.10/dist-packages (from requests<3,>=2.21.0->tensorboard<2.16,>=2.15->tensorflow) (2.0.7)\n",
            "Requirement already satisfied: certifi>=2017.4.17 in /usr/local/lib/python3.10/dist-packages (from requests<3,>=2.21.0->tensorboard<2.16,>=2.15->tensorflow) (2023.7.22)\n",
            "Requirement already satisfied: MarkupSafe>=2.1.1 in /usr/local/lib/python3.10/dist-packages (from werkzeug>=1.0.1->tensorboard<2.16,>=2.15->tensorflow) (2.1.3)\n",
            "Requirement already satisfied: pyasn1<0.6.0,>=0.4.6 in /usr/local/lib/python3.10/dist-packages (from pyasn1-modules>=0.2.1->google-auth<3,>=1.6.3->tensorboard<2.16,>=2.15->tensorflow) (0.5.0)\n",
            "Requirement already satisfied: oauthlib>=3.0.0 in /usr/local/lib/python3.10/dist-packages (from requests-oauthlib>=0.7.0->google-auth-oauthlib<2,>=0.5->tensorboard<2.16,>=2.15->tensorflow) (3.2.2)\n",
            "Installing collected packages: tensorflow-estimator, keras, tensorboard, tensorflow\n",
            "  Attempting uninstall: tensorflow-estimator\n",
            "    Found existing installation: tensorflow-estimator 2.14.0\n",
            "    Uninstalling tensorflow-estimator-2.14.0:\n",
            "      Successfully uninstalled tensorflow-estimator-2.14.0\n",
            "  Attempting uninstall: keras\n",
            "    Found existing installation: keras 2.14.0\n",
            "    Uninstalling keras-2.14.0:\n",
            "      Successfully uninstalled keras-2.14.0\n",
            "  Attempting uninstall: tensorboard\n",
            "    Found existing installation: tensorboard 2.14.1\n",
            "    Uninstalling tensorboard-2.14.1:\n",
            "      Successfully uninstalled tensorboard-2.14.1\n",
            "  Attempting uninstall: tensorflow\n",
            "    Found existing installation: tensorflow 2.14.0\n",
            "    Uninstalling tensorflow-2.14.0:\n",
            "      Successfully uninstalled tensorflow-2.14.0\n",
            "Successfully installed keras-2.15.0 tensorboard-2.15.1 tensorflow-2.15.0 tensorflow-estimator-2.15.0\n"
          ]
        }
      ]
    },
    {
      "cell_type": "code",
      "execution_count": null,
      "metadata": {
        "id": "AfjqHxiPAQZX"
      },
      "outputs": [],
      "source": [
        "import os\n",
        "import pandas as pd\n",
        "import seaborn as sns\n",
        "import os\n",
        "import shutil\n",
        "import tensorflow.keras as keras\n",
        "from keras.preprocessing.text import Tokenizer\n",
        "from tensorflow.keras.preprocessing.sequence import pad_sequences\n",
        "from keras.layers import Dense, Embedding, LSTM, SpatialDropout1D,TimeDistributed, Flatten, Bidirectional\n",
        "from sklearn.model_selection import train_test_split\n",
        "from keras.models import Sequential, Model\n",
        "import matplotlib.pyplot as plt\n",
        "from keras.layers import BatchNormalization\n",
        "from keras.regularizers import l2\n",
        "import re"
      ]
    },
    {
      "cell_type": "code",
      "source": [
        "train_dataset = pd.read_csv('Tweets.csv')"
      ],
      "metadata": {
        "id": "4kVY9PM4BKc7"
      },
      "execution_count": null,
      "outputs": []
    },
    {
      "cell_type": "code",
      "source": [
        "train_dataset.head()"
      ],
      "metadata": {
        "id": "s6FKC2FPAsEX"
      },
      "execution_count": null,
      "outputs": []
    },
    {
      "cell_type": "code",
      "source": [
        "train_dataset.tail()"
      ],
      "metadata": {
        "colab": {
          "base_uri": "https://localhost:8080/",
          "height": 206
        },
        "id": "Fa5Jpj85BhNO",
        "outputId": "2d6e3438-b7d9-44a8-9186-f7324d51b0d5"
      },
      "execution_count": null,
      "outputs": [
        {
          "output_type": "execute_result",
          "data": {
            "text/plain": [
              "           textID                                               text  \\\n",
              "27476  4eac33d1c0   wish we could come see u on Denver  husband l...   \n",
              "27477  4f4c4fc327   I`ve wondered about rake to.  The client has ...   \n",
              "27478  f67aae2310   Yay good for both of you. Enjoy the break - y...   \n",
              "27479  ed167662a5                         But it was worth it  ****.   \n",
              "27480  6f7127d9d7     All this flirting going on - The ATG smiles...   \n",
              "\n",
              "                                           selected_text sentiment  \n",
              "27476                                             d lost  negative  \n",
              "27477                                      , don`t force  negative  \n",
              "27478                          Yay good for both of you.  positive  \n",
              "27479                         But it was worth it  ****.  positive  \n",
              "27480  All this flirting going on - The ATG smiles. Y...   neutral  "
            ],
            "text/html": [
              "\n",
              "  <div id=\"df-9ab61605-92fb-4055-9cb9-8272000540b8\" class=\"colab-df-container\">\n",
              "    <div>\n",
              "<style scoped>\n",
              "    .dataframe tbody tr th:only-of-type {\n",
              "        vertical-align: middle;\n",
              "    }\n",
              "\n",
              "    .dataframe tbody tr th {\n",
              "        vertical-align: top;\n",
              "    }\n",
              "\n",
              "    .dataframe thead th {\n",
              "        text-align: right;\n",
              "    }\n",
              "</style>\n",
              "<table border=\"1\" class=\"dataframe\">\n",
              "  <thead>\n",
              "    <tr style=\"text-align: right;\">\n",
              "      <th></th>\n",
              "      <th>textID</th>\n",
              "      <th>text</th>\n",
              "      <th>selected_text</th>\n",
              "      <th>sentiment</th>\n",
              "    </tr>\n",
              "  </thead>\n",
              "  <tbody>\n",
              "    <tr>\n",
              "      <th>27476</th>\n",
              "      <td>4eac33d1c0</td>\n",
              "      <td>wish we could come see u on Denver  husband l...</td>\n",
              "      <td>d lost</td>\n",
              "      <td>negative</td>\n",
              "    </tr>\n",
              "    <tr>\n",
              "      <th>27477</th>\n",
              "      <td>4f4c4fc327</td>\n",
              "      <td>I`ve wondered about rake to.  The client has ...</td>\n",
              "      <td>, don`t force</td>\n",
              "      <td>negative</td>\n",
              "    </tr>\n",
              "    <tr>\n",
              "      <th>27478</th>\n",
              "      <td>f67aae2310</td>\n",
              "      <td>Yay good for both of you. Enjoy the break - y...</td>\n",
              "      <td>Yay good for both of you.</td>\n",
              "      <td>positive</td>\n",
              "    </tr>\n",
              "    <tr>\n",
              "      <th>27479</th>\n",
              "      <td>ed167662a5</td>\n",
              "      <td>But it was worth it  ****.</td>\n",
              "      <td>But it was worth it  ****.</td>\n",
              "      <td>positive</td>\n",
              "    </tr>\n",
              "    <tr>\n",
              "      <th>27480</th>\n",
              "      <td>6f7127d9d7</td>\n",
              "      <td>All this flirting going on - The ATG smiles...</td>\n",
              "      <td>All this flirting going on - The ATG smiles. Y...</td>\n",
              "      <td>neutral</td>\n",
              "    </tr>\n",
              "  </tbody>\n",
              "</table>\n",
              "</div>\n",
              "    <div class=\"colab-df-buttons\">\n",
              "\n",
              "  <div class=\"colab-df-container\">\n",
              "    <button class=\"colab-df-convert\" onclick=\"convertToInteractive('df-9ab61605-92fb-4055-9cb9-8272000540b8')\"\n",
              "            title=\"Convert this dataframe to an interactive table.\"\n",
              "            style=\"display:none;\">\n",
              "\n",
              "  <svg xmlns=\"http://www.w3.org/2000/svg\" height=\"24px\" viewBox=\"0 -960 960 960\">\n",
              "    <path d=\"M120-120v-720h720v720H120Zm60-500h600v-160H180v160Zm220 220h160v-160H400v160Zm0 220h160v-160H400v160ZM180-400h160v-160H180v160Zm440 0h160v-160H620v160ZM180-180h160v-160H180v160Zm440 0h160v-160H620v160Z\"/>\n",
              "  </svg>\n",
              "    </button>\n",
              "\n",
              "  <style>\n",
              "    .colab-df-container {\n",
              "      display:flex;\n",
              "      gap: 12px;\n",
              "    }\n",
              "\n",
              "    .colab-df-convert {\n",
              "      background-color: #E8F0FE;\n",
              "      border: none;\n",
              "      border-radius: 50%;\n",
              "      cursor: pointer;\n",
              "      display: none;\n",
              "      fill: #1967D2;\n",
              "      height: 32px;\n",
              "      padding: 0 0 0 0;\n",
              "      width: 32px;\n",
              "    }\n",
              "\n",
              "    .colab-df-convert:hover {\n",
              "      background-color: #E2EBFA;\n",
              "      box-shadow: 0px 1px 2px rgba(60, 64, 67, 0.3), 0px 1px 3px 1px rgba(60, 64, 67, 0.15);\n",
              "      fill: #174EA6;\n",
              "    }\n",
              "\n",
              "    .colab-df-buttons div {\n",
              "      margin-bottom: 4px;\n",
              "    }\n",
              "\n",
              "    [theme=dark] .colab-df-convert {\n",
              "      background-color: #3B4455;\n",
              "      fill: #D2E3FC;\n",
              "    }\n",
              "\n",
              "    [theme=dark] .colab-df-convert:hover {\n",
              "      background-color: #434B5C;\n",
              "      box-shadow: 0px 1px 3px 1px rgba(0, 0, 0, 0.15);\n",
              "      filter: drop-shadow(0px 1px 2px rgba(0, 0, 0, 0.3));\n",
              "      fill: #FFFFFF;\n",
              "    }\n",
              "  </style>\n",
              "\n",
              "    <script>\n",
              "      const buttonEl =\n",
              "        document.querySelector('#df-9ab61605-92fb-4055-9cb9-8272000540b8 button.colab-df-convert');\n",
              "      buttonEl.style.display =\n",
              "        google.colab.kernel.accessAllowed ? 'block' : 'none';\n",
              "\n",
              "      async function convertToInteractive(key) {\n",
              "        const element = document.querySelector('#df-9ab61605-92fb-4055-9cb9-8272000540b8');\n",
              "        const dataTable =\n",
              "          await google.colab.kernel.invokeFunction('convertToInteractive',\n",
              "                                                    [key], {});\n",
              "        if (!dataTable) return;\n",
              "\n",
              "        const docLinkHtml = 'Like what you see? Visit the ' +\n",
              "          '<a target=\"_blank\" href=https://colab.research.google.com/notebooks/data_table.ipynb>data table notebook</a>'\n",
              "          + ' to learn more about interactive tables.';\n",
              "        element.innerHTML = '';\n",
              "        dataTable['output_type'] = 'display_data';\n",
              "        await google.colab.output.renderOutput(dataTable, element);\n",
              "        const docLink = document.createElement('div');\n",
              "        docLink.innerHTML = docLinkHtml;\n",
              "        element.appendChild(docLink);\n",
              "      }\n",
              "    </script>\n",
              "  </div>\n",
              "\n",
              "\n",
              "<div id=\"df-dc95f4e9-0a0f-41d3-982f-6bbe6b34c268\">\n",
              "  <button class=\"colab-df-quickchart\" onclick=\"quickchart('df-dc95f4e9-0a0f-41d3-982f-6bbe6b34c268')\"\n",
              "            title=\"Suggest charts\"\n",
              "            style=\"display:none;\">\n",
              "\n",
              "<svg xmlns=\"http://www.w3.org/2000/svg\" height=\"24px\"viewBox=\"0 0 24 24\"\n",
              "     width=\"24px\">\n",
              "    <g>\n",
              "        <path d=\"M19 3H5c-1.1 0-2 .9-2 2v14c0 1.1.9 2 2 2h14c1.1 0 2-.9 2-2V5c0-1.1-.9-2-2-2zM9 17H7v-7h2v7zm4 0h-2V7h2v10zm4 0h-2v-4h2v4z\"/>\n",
              "    </g>\n",
              "</svg>\n",
              "  </button>\n",
              "\n",
              "<style>\n",
              "  .colab-df-quickchart {\n",
              "      --bg-color: #E8F0FE;\n",
              "      --fill-color: #1967D2;\n",
              "      --hover-bg-color: #E2EBFA;\n",
              "      --hover-fill-color: #174EA6;\n",
              "      --disabled-fill-color: #AAA;\n",
              "      --disabled-bg-color: #DDD;\n",
              "  }\n",
              "\n",
              "  [theme=dark] .colab-df-quickchart {\n",
              "      --bg-color: #3B4455;\n",
              "      --fill-color: #D2E3FC;\n",
              "      --hover-bg-color: #434B5C;\n",
              "      --hover-fill-color: #FFFFFF;\n",
              "      --disabled-bg-color: #3B4455;\n",
              "      --disabled-fill-color: #666;\n",
              "  }\n",
              "\n",
              "  .colab-df-quickchart {\n",
              "    background-color: var(--bg-color);\n",
              "    border: none;\n",
              "    border-radius: 50%;\n",
              "    cursor: pointer;\n",
              "    display: none;\n",
              "    fill: var(--fill-color);\n",
              "    height: 32px;\n",
              "    padding: 0;\n",
              "    width: 32px;\n",
              "  }\n",
              "\n",
              "  .colab-df-quickchart:hover {\n",
              "    background-color: var(--hover-bg-color);\n",
              "    box-shadow: 0 1px 2px rgba(60, 64, 67, 0.3), 0 1px 3px 1px rgba(60, 64, 67, 0.15);\n",
              "    fill: var(--button-hover-fill-color);\n",
              "  }\n",
              "\n",
              "  .colab-df-quickchart-complete:disabled,\n",
              "  .colab-df-quickchart-complete:disabled:hover {\n",
              "    background-color: var(--disabled-bg-color);\n",
              "    fill: var(--disabled-fill-color);\n",
              "    box-shadow: none;\n",
              "  }\n",
              "\n",
              "  .colab-df-spinner {\n",
              "    border: 2px solid var(--fill-color);\n",
              "    border-color: transparent;\n",
              "    border-bottom-color: var(--fill-color);\n",
              "    animation:\n",
              "      spin 1s steps(1) infinite;\n",
              "  }\n",
              "\n",
              "  @keyframes spin {\n",
              "    0% {\n",
              "      border-color: transparent;\n",
              "      border-bottom-color: var(--fill-color);\n",
              "      border-left-color: var(--fill-color);\n",
              "    }\n",
              "    20% {\n",
              "      border-color: transparent;\n",
              "      border-left-color: var(--fill-color);\n",
              "      border-top-color: var(--fill-color);\n",
              "    }\n",
              "    30% {\n",
              "      border-color: transparent;\n",
              "      border-left-color: var(--fill-color);\n",
              "      border-top-color: var(--fill-color);\n",
              "      border-right-color: var(--fill-color);\n",
              "    }\n",
              "    40% {\n",
              "      border-color: transparent;\n",
              "      border-right-color: var(--fill-color);\n",
              "      border-top-color: var(--fill-color);\n",
              "    }\n",
              "    60% {\n",
              "      border-color: transparent;\n",
              "      border-right-color: var(--fill-color);\n",
              "    }\n",
              "    80% {\n",
              "      border-color: transparent;\n",
              "      border-right-color: var(--fill-color);\n",
              "      border-bottom-color: var(--fill-color);\n",
              "    }\n",
              "    90% {\n",
              "      border-color: transparent;\n",
              "      border-bottom-color: var(--fill-color);\n",
              "    }\n",
              "  }\n",
              "</style>\n",
              "\n",
              "  <script>\n",
              "    async function quickchart(key) {\n",
              "      const quickchartButtonEl =\n",
              "        document.querySelector('#' + key + ' button');\n",
              "      quickchartButtonEl.disabled = true;  // To prevent multiple clicks.\n",
              "      quickchartButtonEl.classList.add('colab-df-spinner');\n",
              "      try {\n",
              "        const charts = await google.colab.kernel.invokeFunction(\n",
              "            'suggestCharts', [key], {});\n",
              "      } catch (error) {\n",
              "        console.error('Error during call to suggestCharts:', error);\n",
              "      }\n",
              "      quickchartButtonEl.classList.remove('colab-df-spinner');\n",
              "      quickchartButtonEl.classList.add('colab-df-quickchart-complete');\n",
              "    }\n",
              "    (() => {\n",
              "      let quickchartButtonEl =\n",
              "        document.querySelector('#df-dc95f4e9-0a0f-41d3-982f-6bbe6b34c268 button');\n",
              "      quickchartButtonEl.style.display =\n",
              "        google.colab.kernel.accessAllowed ? 'block' : 'none';\n",
              "    })();\n",
              "  </script>\n",
              "</div>\n",
              "    </div>\n",
              "  </div>\n"
            ]
          },
          "metadata": {},
          "execution_count": 6
        }
      ]
    },
    {
      "cell_type": "code",
      "source": [
        "train_dataset.shape"
      ],
      "metadata": {
        "colab": {
          "base_uri": "https://localhost:8080/"
        },
        "id": "pAQqTpdNBija",
        "outputId": "9a95eff9-5bce-45e8-ae09-0f0c2b28664d"
      },
      "execution_count": null,
      "outputs": [
        {
          "output_type": "execute_result",
          "data": {
            "text/plain": [
              "(27481, 4)"
            ]
          },
          "metadata": {},
          "execution_count": 7
        }
      ]
    },
    {
      "cell_type": "code",
      "source": [
        "#checking if there are any null values\n",
        "train_dataset.isnull().any()"
      ],
      "metadata": {
        "colab": {
          "base_uri": "https://localhost:8080/"
        },
        "id": "o1MNFPIdBklv",
        "outputId": "4f49ed97-8acf-4258-914b-10edd57dd517"
      },
      "execution_count": null,
      "outputs": [
        {
          "output_type": "execute_result",
          "data": {
            "text/plain": [
              "textID           False\n",
              "text              True\n",
              "selected_text     True\n",
              "sentiment        False\n",
              "dtype: bool"
            ]
          },
          "metadata": {},
          "execution_count": 8
        }
      ]
    },
    {
      "cell_type": "code",
      "source": [
        "#checking out number of negative, neutral and positive sentiment labels in the dataset.\n",
        "print(\"Number of positive sentiment in train data of length: {0} is {1}\".format(len(train_dataset), len(train_dataset[train_dataset['sentiment']==\"positive\"])))\n",
        "print(\"Number of negative sentiment in train data of length: {0} is {1}\".format(len(train_dataset), len(train_dataset[train_dataset['sentiment']==\"neutral\"])))\n",
        "print(\"Number of neutral sentiment in train data of length: {0} is {1}\".format(len(train_dataset), len(train_dataset[train_dataset['sentiment']==\"negative\"])))"
      ],
      "metadata": {
        "colab": {
          "base_uri": "https://localhost:8080/"
        },
        "id": "ncwUt_bPBnCF",
        "outputId": "a9218f57-5afe-4aa3-c50e-c8de353a481d"
      },
      "execution_count": null,
      "outputs": [
        {
          "output_type": "stream",
          "name": "stdout",
          "text": [
            "Number of positive sentiment in train data of length: 27481 is 8582\n",
            "Number of negative sentiment in train data of length: 27481 is 11118\n",
            "Number of neutral sentiment in train data of length: 27481 is 7781\n"
          ]
        }
      ]
    },
    {
      "cell_type": "code",
      "source": [
        "#plotting the same.\n",
        "train_dataset.groupby('sentiment').count().plot.bar(color='red')"
      ],
      "metadata": {
        "colab": {
          "base_uri": "https://localhost:8080/",
          "height": 514
        },
        "id": "42rnn9tzBpuD",
        "outputId": "ca9dd581-9455-42b1-9ba9-33ba2c5d1292"
      },
      "execution_count": null,
      "outputs": [
        {
          "output_type": "execute_result",
          "data": {
            "text/plain": [
              "<Axes: xlabel='sentiment'>"
            ]
          },
          "metadata": {},
          "execution_count": 10
        },
        {
          "output_type": "display_data",
          "data": {
            "text/plain": [
              "<Figure size 640x480 with 1 Axes>"
            ],
            "image/png": "[encoded data removed]"
          },
          "metadata": {}
        }
      ]
    },
    {
      "cell_type": "code",
      "source": [
        "#plotting the distibution of number of characters in the tweets\n",
        "sns.distplot(train_dataset.text.str.len())"
      ],
      "metadata": {
        "colab": {
          "base_uri": "https://localhost:8080/",
          "height": 666
        },
        "id": "vwWlb7fjBskZ",
        "outputId": "1ca38a1b-d71b-407e-8510-a48a944d343b"
      },
      "execution_count": null,
      "outputs": [
        {
          "output_type": "stream",
          "name": "stderr",
          "text": [
            "<ipython-input-11-65b4696ea094>:2: UserWarning: \n",
            "\n",
            "`distplot` is a deprecated function and will be removed in seaborn v0.14.0.\n",
            "\n",
            "Please adapt your code to use either `displot` (a figure-level function with\n",
            "similar flexibility) or `histplot` (an axes-level function for histograms).\n",
            "\n",
            "For a guide to updating your code to use the new functions, please see\n",
            "https://gist.github.com/mwaskom/de44147ed2974457ad6372750bbe5751\n",
            "\n",
            "  sns.distplot(train_dataset.text.str.len())\n"
          ]
        },
        {
          "output_type": "execute_result",
          "data": {
            "text/plain": [
              "<Axes: xlabel='text', ylabel='Density'>"
            ]
          },
          "metadata": {},
          "execution_count": 11
        },
        {
          "output_type": "display_data",
          "data": {
            "text/plain": [
              "<Figure size 640x480 with 1 Axes>"
            ],
            "image/png": "[encoded data removed]"
          },
          "metadata": {}
        }
      ]
    },
    {
      "cell_type": "code",
      "source": [
        "#dropping unneccessary columns\n",
        "train_dataset = train_dataset.drop(['textID','selected_text'],axis=1)\n",
        "train_dataset.head()"
      ],
      "metadata": {
        "colab": {
          "base_uri": "https://localhost:8080/",
          "height": 206
        },
        "id": "SeYctN05BvK8",
        "outputId": "85708148-7a1b-4228-8345-b77b73676c54"
      },
      "execution_count": null,
      "outputs": [
        {
          "output_type": "execute_result",
          "data": {
            "text/plain": [
              "                                                text sentiment\n",
              "0                I`d have responded, if I were going   neutral\n",
              "1      Sooo SAD I will miss you here in San Diego!!!  negative\n",
              "2                          my boss is bullying me...  negative\n",
              "3                     what interview! leave me alone  negative\n",
              "4   Sons of ****, why couldn`t they put them on t...  negative"
            ],
            "text/html": [
              "\n",
              "  <div id=\"df-2b843916-5fca-49dd-877c-222e2aab8d66\" class=\"colab-df-container\">\n",
              "    <div>\n",
              "<style scoped>\n",
              "    .dataframe tbody tr th:only-of-type {\n",
              "        vertical-align: middle;\n",
              "    }\n",
              "\n",
              "    .dataframe tbody tr th {\n",
              "        vertical-align: top;\n",
              "    }\n",
              "\n",
              "    .dataframe thead th {\n",
              "        text-align: right;\n",
              "    }\n",
              "</style>\n",
              "<table border=\"1\" class=\"dataframe\">\n",
              "  <thead>\n",
              "    <tr style=\"text-align: right;\">\n",
              "      <th></th>\n",
              "      <th>text</th>\n",
              "      <th>sentiment</th>\n",
              "    </tr>\n",
              "  </thead>\n",
              "  <tbody>\n",
              "    <tr>\n",
              "      <th>0</th>\n",
              "      <td>I`d have responded, if I were going</td>\n",
              "      <td>neutral</td>\n",
              "    </tr>\n",
              "    <tr>\n",
              "      <th>1</th>\n",
              "      <td>Sooo SAD I will miss you here in San Diego!!!</td>\n",
              "      <td>negative</td>\n",
              "    </tr>\n",
              "    <tr>\n",
              "      <th>2</th>\n",
              "      <td>my boss is bullying me...</td>\n",
              "      <td>negative</td>\n",
              "    </tr>\n",
              "    <tr>\n",
              "      <th>3</th>\n",
              "      <td>what interview! leave me alone</td>\n",
              "      <td>negative</td>\n",
              "    </tr>\n",
              "    <tr>\n",
              "      <th>4</th>\n",
              "      <td>Sons of ****, why couldn`t they put them on t...</td>\n",
              "      <td>negative</td>\n",
              "    </tr>\n",
              "  </tbody>\n",
              "</table>\n",
              "</div>\n",
              "    <div class=\"colab-df-buttons\">\n",
              "\n",
              "  <div class=\"colab-df-container\">\n",
              "    <button class=\"colab-df-convert\" onclick=\"convertToInteractive('df-2b843916-5fca-49dd-877c-222e2aab8d66')\"\n",
              "            title=\"Convert this dataframe to an interactive table.\"\n",
              "            style=\"display:none;\">\n",
              "\n",
              "  <svg xmlns=\"http://www.w3.org/2000/svg\" height=\"24px\" viewBox=\"0 -960 960 960\">\n",
              "    <path d=\"M120-120v-720h720v720H120Zm60-500h600v-160H180v160Zm220 220h160v-160H400v160Zm0 220h160v-160H400v160ZM180-400h160v-160H180v160Zm440 0h160v-160H620v160ZM180-180h160v-160H180v160Zm440 0h160v-160H620v160Z\"/>\n",
              "  </svg>\n",
              "    </button>\n",
              "\n",
              "  <style>\n",
              "    .colab-df-container {\n",
              "      display:flex;\n",
              "      gap: 12px;\n",
              "    }\n",
              "\n",
              "    .colab-df-convert {\n",
              "      background-color: #E8F0FE;\n",
              "      border: none;\n",
              "      border-radius: 50%;\n",
              "      cursor: pointer;\n",
              "      display: none;\n",
              "      fill: #1967D2;\n",
              "      height: 32px;\n",
              "      padding: 0 0 0 0;\n",
              "      width: 32px;\n",
              "    }\n",
              "\n",
              "    .colab-df-convert:hover {\n",
              "      background-color: #E2EBFA;\n",
              "      box-shadow: 0px 1px 2px rgba(60, 64, 67, 0.3), 0px 1px 3px 1px rgba(60, 64, 67, 0.15);\n",
              "      fill: #174EA6;\n",
              "    }\n",
              "\n",
              "    .colab-df-buttons div {\n",
              "      margin-bottom: 4px;\n",
              "    }\n",
              "\n",
              "    [theme=dark] .colab-df-convert {\n",
              "      background-color: #3B4455;\n",
              "      fill: #D2E3FC;\n",
              "    }\n",
              "\n",
              "    [theme=dark] .colab-df-convert:hover {\n",
              "      background-color: #434B5C;\n",
              "      box-shadow: 0px 1px 3px 1px rgba(0, 0, 0, 0.15);\n",
              "      filter: drop-shadow(0px 1px 2px rgba(0, 0, 0, 0.3));\n",
              "      fill: #FFFFFF;\n",
              "    }\n",
              "  </style>\n",
              "\n",
              "    <script>\n",
              "      const buttonEl =\n",
              "        document.querySelector('#df-2b843916-5fca-49dd-877c-222e2aab8d66 button.colab-df-convert');\n",
              "      buttonEl.style.display =\n",
              "        google.colab.kernel.accessAllowed ? 'block' : 'none';\n",
              "\n",
              "      async function convertToInteractive(key) {\n",
              "        const element = document.querySelector('#df-2b843916-5fca-49dd-877c-222e2aab8d66');\n",
              "        const dataTable =\n",
              "          await google.colab.kernel.invokeFunction('convertToInteractive',\n",
              "                                                    [key], {});\n",
              "        if (!dataTable) return;\n",
              "\n",
              "        const docLinkHtml = 'Like what you see? Visit the ' +\n",
              "          '<a target=\"_blank\" href=https://colab.research.google.com/notebooks/data_table.ipynb>data table notebook</a>'\n",
              "          + ' to learn more about interactive tables.';\n",
              "        element.innerHTML = '';\n",
              "        dataTable['output_type'] = 'display_data';\n",
              "        await google.colab.output.renderOutput(dataTable, element);\n",
              "        const docLink = document.createElement('div');\n",
              "        docLink.innerHTML = docLinkHtml;\n",
              "        element.appendChild(docLink);\n",
              "      }\n",
              "    </script>\n",
              "  </div>\n",
              "\n",
              "\n",
              "<div id=\"df-eb46f257-9033-44b2-993c-c8cfab5bb49e\">\n",
              "  <button class=\"colab-df-quickchart\" onclick=\"quickchart('df-eb46f257-9033-44b2-993c-c8cfab5bb49e')\"\n",
              "            title=\"Suggest charts\"\n",
              "            style=\"display:none;\">\n",
              "\n",
              "<svg xmlns=\"http://www.w3.org/2000/svg\" height=\"24px\"viewBox=\"0 0 24 24\"\n",
              "     width=\"24px\">\n",
              "    <g>\n",
              "        <path d=\"M19 3H5c-1.1 0-2 .9-2 2v14c0 1.1.9 2 2 2h14c1.1 0 2-.9 2-2V5c0-1.1-.9-2-2-2zM9 17H7v-7h2v7zm4 0h-2V7h2v10zm4 0h-2v-4h2v4z\"/>\n",
              "    </g>\n",
              "</svg>\n",
              "  </button>\n",
              "\n",
              "<style>\n",
              "  .colab-df-quickchart {\n",
              "      --bg-color: #E8F0FE;\n",
              "      --fill-color: #1967D2;\n",
              "      --hover-bg-color: #E2EBFA;\n",
              "      --hover-fill-color: #174EA6;\n",
              "      --disabled-fill-color: #AAA;\n",
              "      --disabled-bg-color: #DDD;\n",
              "  }\n",
              "\n",
              "  [theme=dark] .colab-df-quickchart {\n",
              "      --bg-color: #3B4455;\n",
              "      --fill-color: #D2E3FC;\n",
              "      --hover-bg-color: #434B5C;\n",
              "      --hover-fill-color: #FFFFFF;\n",
              "      --disabled-bg-color: #3B4455;\n",
              "      --disabled-fill-color: #666;\n",
              "  }\n",
              "\n",
              "  .colab-df-quickchart {\n",
              "    background-color: var(--bg-color);\n",
              "    border: none;\n",
              "    border-radius: 50%;\n",
              "    cursor: pointer;\n",
              "    display: none;\n",
              "    fill: var(--fill-color);\n",
              "    height: 32px;\n",
              "    padding: 0;\n",
              "    width: 32px;\n",
              "  }\n",
              "\n",
              "  .colab-df-quickchart:hover {\n",
              "    background-color: var(--hover-bg-color);\n",
              "    box-shadow: 0 1px 2px rgba(60, 64, 67, 0.3), 0 1px 3px 1px rgba(60, 64, 67, 0.15);\n",
              "    fill: var(--button-hover-fill-color);\n",
              "  }\n",
              "\n",
              "  .colab-df-quickchart-complete:disabled,\n",
              "  .colab-df-quickchart-complete:disabled:hover {\n",
              "    background-color: var(--disabled-bg-color);\n",
              "    fill: var(--disabled-fill-color);\n",
              "    box-shadow: none;\n",
              "  }\n",
              "\n",
              "  .colab-df-spinner {\n",
              "    border: 2px solid var(--fill-color);\n",
              "    border-color: transparent;\n",
              "    border-bottom-color: var(--fill-color);\n",
              "    animation:\n",
              "      spin 1s steps(1) infinite;\n",
              "  }\n",
              "\n",
              "  @keyframes spin {\n",
              "    0% {\n",
              "      border-color: transparent;\n",
              "      border-bottom-color: var(--fill-color);\n",
              "      border-left-color: var(--fill-color);\n",
              "    }\n",
              "    20% {\n",
              "      border-color: transparent;\n",
              "      border-left-color: var(--fill-color);\n",
              "      border-top-color: var(--fill-color);\n",
              "    }\n",
              "    30% {\n",
              "      border-color: transparent;\n",
              "      border-left-color: var(--fill-color);\n",
              "      border-top-color: var(--fill-color);\n",
              "      border-right-color: var(--fill-color);\n",
              "    }\n",
              "    40% {\n",
              "      border-color: transparent;\n",
              "      border-right-color: var(--fill-color);\n",
              "      border-top-color: var(--fill-color);\n",
              "    }\n",
              "    60% {\n",
              "      border-color: transparent;\n",
              "      border-right-color: var(--fill-color);\n",
              "    }\n",
              "    80% {\n",
              "      border-color: transparent;\n",
              "      border-right-color: var(--fill-color);\n",
              "      border-bottom-color: var(--fill-color);\n",
              "    }\n",
              "    90% {\n",
              "      border-color: transparent;\n",
              "      border-bottom-color: var(--fill-color);\n",
              "    }\n",
              "  }\n",
              "</style>\n",
              "\n",
              "  <script>\n",
              "    async function quickchart(key) {\n",
              "      const quickchartButtonEl =\n",
              "        document.querySelector('#' + key + ' button');\n",
              "      quickchartButtonEl.disabled = true;  // To prevent multiple clicks.\n",
              "      quickchartButtonEl.classList.add('colab-df-spinner');\n",
              "      try {\n",
              "        const charts = await google.colab.kernel.invokeFunction(\n",
              "            'suggestCharts', [key], {});\n",
              "      } catch (error) {\n",
              "        console.error('Error during call to suggestCharts:', error);\n",
              "      }\n",
              "      quickchartButtonEl.classList.remove('colab-df-spinner');\n",
              "      quickchartButtonEl.classList.add('colab-df-quickchart-complete');\n",
              "    }\n",
              "    (() => {\n",
              "      let quickchartButtonEl =\n",
              "        document.querySelector('#df-eb46f257-9033-44b2-993c-c8cfab5bb49e button');\n",
              "      quickchartButtonEl.style.display =\n",
              "        google.colab.kernel.accessAllowed ? 'block' : 'none';\n",
              "    })();\n",
              "  </script>\n",
              "</div>\n",
              "    </div>\n",
              "  </div>\n"
            ]
          },
          "metadata": {},
          "execution_count": 12
        }
      ]
    },
    {
      "cell_type": "code",
      "source": [
        "#converting data in text column to string\n",
        "train_dataset.text=train_dataset.text.astype(str)\n",
        "#removing neutral categories\n",
        "train_dataset_without_neutral = train_dataset[train_dataset.sentiment!=\"neutral\"]\n",
        "train_dataset_without_neutral.text=train_dataset_without_neutral.text.astype(str)\n",
        "#converting train_dataset and train_dataset_without neutral to lower case\n",
        "train_dataset.text = train_dataset.text.str.lower()\n",
        "train_dataset_without_neutral.text = train_dataset_without_neutral.text.str.lower()\n",
        "#cleaning more\n",
        "train_dataset['text'] = train_dataset['text'].apply((lambda x: re.sub('[^a-zA-z0-9\\s]','',x)))\n",
        "train_dataset_without_neutral['text'] = train_dataset_without_neutral['text'].apply((lambda x: re.sub('[^a-zA-z0-9\\s]','',x)))"
      ],
      "metadata": {
        "colab": {
          "base_uri": "https://localhost:8080/"
        },
        "id": "8GhMyKQfB1Ut",
        "outputId": "c8bf506b-4e8d-4545-cebb-20432d894e0d"
      },
      "execution_count": null,
      "outputs": [
        {
          "output_type": "stream",
          "name": "stderr",
          "text": [
            "<ipython-input-14-d5d7745b72d3>:5: SettingWithCopyWarning: \n",
            "A value is trying to be set on a copy of a slice from a DataFrame.\n",
            "Try using .loc[row_indexer,col_indexer] = value instead\n",
            "\n",
            "See the caveats in the documentation: https://pandas.pydata.org/pandas-docs/stable/user_guide/indexing.html#returning-a-view-versus-a-copy\n",
            "  train_dataset_without_neutral.text=train_dataset_without_neutral.text.astype(str)\n",
            "<ipython-input-14-d5d7745b72d3>:8: SettingWithCopyWarning: \n",
            "A value is trying to be set on a copy of a slice from a DataFrame.\n",
            "Try using .loc[row_indexer,col_indexer] = value instead\n",
            "\n",
            "See the caveats in the documentation: https://pandas.pydata.org/pandas-docs/stable/user_guide/indexing.html#returning-a-view-versus-a-copy\n",
            "  train_dataset_without_neutral.text = train_dataset_without_neutral.text.str.lower()\n",
            "<ipython-input-14-d5d7745b72d3>:11: SettingWithCopyWarning: \n",
            "A value is trying to be set on a copy of a slice from a DataFrame.\n",
            "Try using .loc[row_indexer,col_indexer] = value instead\n",
            "\n",
            "See the caveats in the documentation: https://pandas.pydata.org/pandas-docs/stable/user_guide/indexing.html#returning-a-view-versus-a-copy\n",
            "  train_dataset_without_neutral['text'] = train_dataset_without_neutral['text'].apply((lambda x: re.sub('[^a-zA-z0-9\\s]','',x)))\n"
          ]
        }
      ]
    },
    {
      "cell_type": "code",
      "source": [
        "train_dataset_without_neutral.groupby('sentiment').count().plot.bar(color='red')"
      ],
      "metadata": {
        "colab": {
          "base_uri": "https://localhost:8080/",
          "height": 514
        },
        "id": "R7HuPkNWB4NJ",
        "outputId": "119d7d82-3ed3-4d2f-aa11-b8594aaefad9"
      },
      "execution_count": null,
      "outputs": [
        {
          "output_type": "execute_result",
          "data": {
            "text/plain": [
              "<Axes: xlabel='sentiment'>"
            ]
          },
          "metadata": {},
          "execution_count": 15
        },
        {
          "output_type": "display_data",
          "data": {
            "text/plain": [
              "<Figure size 640x480 with 1 Axes>"
            ],
            "image/png": "[encoded data removed]"
          },
          "metadata": {}
        }
      ]
    },
    {
      "cell_type": "code",
      "source": [
        "max_features = 5000\n",
        "# removing unneccessary punctuations while tokenizing\n",
        "tokenizer = Tokenizer(num_words= max_features, oov_token='OOV',filters='!\"#$%&()*+,-./:;<=>@[\\]^_`{|}~')\n",
        "tokenizer.fit_on_texts(train_dataset['text'].values)\n",
        "features = tokenizer.texts_to_sequences(train_dataset['text'].values)\n",
        "features = pad_sequences(features,padding='post')"
      ],
      "metadata": {
        "id": "uvQCIZvzB_JM"
      },
      "execution_count": null,
      "outputs": []
    },
    {
      "cell_type": "code",
      "source": [
        "max_features = 5000\n",
        "# removing unneccessary punctuations while tokenizing\n",
        "tokenizer2 = Tokenizer(num_words= max_features, oov_token='OOV',filters='!\"#$%&()*+,-./:;<=>@[\\]^_`{|}~')\n",
        "tokenizer2.fit_on_texts(train_dataset_without_neutral['text'].values)\n",
        "features2 = tokenizer2.texts_to_sequences(train_dataset_without_neutral['text'].values)\n",
        "features2 = pad_sequences(features2,padding='post')"
      ],
      "metadata": {
        "id": "E55XR0lbCCC0"
      },
      "execution_count": null,
      "outputs": []
    },
    {
      "cell_type": "code",
      "source": [
        "#getting numerical data for labels\n",
        "labels = pd.get_dummies(train_dataset['sentiment']).values\n",
        "X_train, X_val, Y_train, Y_val = train_test_split(features,labels, test_size = 0.33, random_state = 42)\n",
        "X_train, X_val, Y_train, Y_val = train_test_split(features,labels, test_size = 0.33, random_state = 42)\n",
        "\n",
        "print(\"Input training features and label shape are {},{}\".format(X_train.shape,Y_train.shape))\n",
        "print(\"Input validation features and label shape are {}, {}\".format(X_val.shape,Y_val.shape))"
      ],
      "metadata": {
        "colab": {
          "base_uri": "https://localhost:8080/"
        },
        "id": "hARWRliSCE75",
        "outputId": "804b4502-384d-4bbb-cdce-1eac0985c9a5"
      },
      "execution_count": null,
      "outputs": [
        {
          "output_type": "stream",
          "name": "stdout",
          "text": [
            "Input training features and label shape are (18412, 34),(18412, 3)\n",
            "Input validation features and label shape are (9069, 34), (9069, 3)\n"
          ]
        }
      ]
    },
    {
      "cell_type": "code",
      "source": [
        "#getting numerical data for labels\n",
        "labels1 = pd.get_dummies(train_dataset_without_neutral['sentiment']).values\n",
        "X_train1, X_val1, Y_train1, Y_val1 = train_test_split(features2,labels1, test_size = 0.33, random_state = 42)\n",
        "\n",
        "print(\"Input training features and label shape are {},{}\".format(X_train1.shape,Y_train1.shape))\n",
        "print(\"Input validation features and label shape are {}, {}\".format(X_val1.shape,Y_val1.shape))"
      ],
      "metadata": {
        "colab": {
          "base_uri": "https://localhost:8080/"
        },
        "id": "qkpOoJzoDDtA",
        "outputId": "c1bedfbf-a154-4923-9de3-b3368888ac16"
      },
      "execution_count": null,
      "outputs": [
        {
          "output_type": "stream",
          "name": "stdout",
          "text": [
            "Input training features and label shape are (10963, 33),(10963, 2)\n",
            "Input validation features and label shape are (5400, 33), (5400, 2)\n"
          ]
        }
      ]
    },
    {
      "cell_type": "code",
      "source": [
        "embedding_dimension = 128\n",
        "LSTM_model = Sequential()\n",
        "LSTM_model.add(Embedding(max_features, embedding_dimension, input_length = features.shape[1]))\n",
        "LSTM_model.add(SpatialDropout1D(0.4))\n",
        "LSTM_model.add(LSTM(128, kernel_regularizer=l2(0.1),  dropout=0.4,recurrent_dropout=0.4))\n",
        "LSTM_model.add(Dense(3, activation='softmax'))\n",
        "LSTM_model.compile(loss='categorical_crossentropy', optimizer='adam', metrics=['accuracy'])\n",
        "LSTM_model.summary()"
      ],
      "metadata": {
        "colab": {
          "base_uri": "https://localhost:8080/"
        },
        "id": "TmN0YSAODL-T",
        "outputId": "e4607c53-66e9-4876-c927-8d7ba922223f"
      },
      "execution_count": null,
      "outputs": [
        {
          "output_type": "stream",
          "name": "stdout",
          "text": [
            "Model: \"sequential\"\n",
            "_________________________________________________________________\n",
            " Layer (type)                Output Shape              Param #   \n",
            "=================================================================\n",
            " embedding (Embedding)       (None, 34, 128)           640000    \n",
            "                                                                 \n",
            " spatial_dropout1d (Spatial  (None, 34, 128)           0         \n",
            " Dropout1D)                                                      \n",
            "                                                                 \n",
            " lstm (LSTM)                 (None, 128)               131584    \n",
            "                                                                 \n",
            " dense (Dense)               (None, 3)                 387       \n",
            "                                                                 \n",
            "=================================================================\n",
            "Total params: 771971 (2.94 MB)\n",
            "Trainable params: 771971 (2.94 MB)\n",
            "Non-trainable params: 0 (0.00 Byte)\n",
            "_________________________________________________________________\n"
          ]
        }
      ]
    },
    {
      "cell_type": "code",
      "source": [
        "embedding_dimension = 128\n",
        "LSTM_model_binary = Sequential()\n",
        "LSTM_model_binary.add(Embedding(max_features, embedding_dimension, input_length = features.shape[1]))\n",
        "LSTM_model_binary.add(SpatialDropout1D(0.4))\n",
        "LSTM_model_binary.add(LSTM(128, kernel_regularizer=l2(0.1),  dropout=0.4,recurrent_dropout=0.4))\n",
        "LSTM_model_binary.add(Dense(2, activation='softmax'))\n",
        "LSTM_model_binary.compile(loss='binary_crossentropy', optimizer='adam', metrics=['accuracy'])\n",
        "LSTM_model_binary.summary()"
      ],
      "metadata": {
        "colab": {
          "base_uri": "https://localhost:8080/"
        },
        "id": "wDjb1zFGDOnW",
        "outputId": "f656fdb4-5723-4d6d-fb29-0a30cb05e06a"
      },
      "execution_count": null,
      "outputs": [
        {
          "output_type": "stream",
          "name": "stdout",
          "text": [
            "Model: \"sequential_1\"\n",
            "_________________________________________________________________\n",
            " Layer (type)                Output Shape              Param #   \n",
            "=================================================================\n",
            " embedding_1 (Embedding)     (None, 34, 128)           640000    \n",
            "                                                                 \n",
            " spatial_dropout1d_1 (Spati  (None, 34, 128)           0         \n",
            " alDropout1D)                                                    \n",
            "                                                                 \n",
            " lstm_1 (LSTM)               (None, 128)               131584    \n",
            "                                                                 \n",
            " dense_1 (Dense)             (None, 2)                 258       \n",
            "                                                                 \n",
            "=================================================================\n",
            "Total params: 771842 (2.94 MB)\n",
            "Trainable params: 771842 (2.94 MB)\n",
            "Non-trainable params: 0 (0.00 Byte)\n",
            "_________________________________________________________________\n"
          ]
        }
      ]
    },
    {
      "cell_type": "code",
      "source": [
        "batch_size = 256\n",
        "LSTM_model_history = LSTM_model.fit(X_train,Y_train, epochs = 50, batch_size=batch_size, verbose=1, shuffle=True,validation_data=(X_val,Y_val))"
      ],
      "metadata": {
        "colab": {
          "base_uri": "https://localhost:8080/"
        },
        "id": "C0CgwCNnDcer",
        "outputId": "8a441af9-3774-46bc-b59b-fb6e92bb19ce"
      },
      "execution_count": null,
      "outputs": [
        {
          "output_type": "stream",
          "name": "stdout",
          "text": [
            "Epoch 1/50\n",
            "72/72 [==============================] - 38s 484ms/step - loss: 8.6999 - accuracy: 0.4021 - val_loss: 2.2940 - val_accuracy: 0.4105\n",
            "Epoch 2/50\n",
            "72/72 [==============================] - 30s 421ms/step - loss: 1.3217 - accuracy: 0.4976 - val_loss: 0.8962 - val_accuracy: 0.5923\n",
            "Epoch 3/50\n",
            "72/72 [==============================] - 34s 468ms/step - loss: 0.8145 - accuracy: 0.6486 - val_loss: 0.8352 - val_accuracy: 0.6374\n",
            "Epoch 4/50\n",
            "72/72 [==============================] - 33s 455ms/step - loss: 0.7339 - accuracy: 0.6942 - val_loss: 0.7692 - val_accuracy: 0.6709\n",
            "Epoch 5/50\n",
            "72/72 [==============================] - 31s 436ms/step - loss: 0.7179 - accuracy: 0.7099 - val_loss: 0.7853 - val_accuracy: 0.6673\n",
            "Epoch 6/50\n",
            "72/72 [==============================] - 35s 485ms/step - loss: 0.6782 - accuracy: 0.7321 - val_loss: 0.7747 - val_accuracy: 0.6786\n",
            "Epoch 7/50\n",
            "72/72 [==============================] - 30s 419ms/step - loss: 0.6752 - accuracy: 0.7363 - val_loss: 0.7911 - val_accuracy: 0.6750\n",
            "Epoch 8/50\n",
            "72/72 [==============================] - 36s 497ms/step - loss: 0.6455 - accuracy: 0.7512 - val_loss: 0.7793 - val_accuracy: 0.6838\n",
            "Epoch 9/50\n",
            "72/72 [==============================] - 40s 549ms/step - loss: 0.6263 - accuracy: 0.7606 - val_loss: 0.7887 - val_accuracy: 0.6753\n",
            "Epoch 10/50\n",
            "72/72 [==============================] - 32s 447ms/step - loss: 0.6164 - accuracy: 0.7631 - val_loss: 0.7870 - val_accuracy: 0.6839\n",
            "Epoch 11/50\n",
            "72/72 [==============================] - 31s 434ms/step - loss: 0.5935 - accuracy: 0.7784 - val_loss: 0.8329 - val_accuracy: 0.6678\n",
            "Epoch 12/50\n",
            "72/72 [==============================] - 34s 466ms/step - loss: 0.5878 - accuracy: 0.7814 - val_loss: 0.8166 - val_accuracy: 0.6713\n",
            "Epoch 13/50\n",
            "72/72 [==============================] - 29s 402ms/step - loss: 0.5868 - accuracy: 0.7762 - val_loss: 0.8054 - val_accuracy: 0.6693\n",
            "Epoch 14/50\n",
            "72/72 [==============================] - 35s 492ms/step - loss: 0.5824 - accuracy: 0.7820 - val_loss: 0.7999 - val_accuracy: 0.6758\n",
            "Epoch 15/50\n",
            "72/72 [==============================] - 32s 445ms/step - loss: 0.5776 - accuracy: 0.7838 - val_loss: 0.8717 - val_accuracy: 0.6678\n",
            "Epoch 16/50\n",
            "72/72 [==============================] - 31s 429ms/step - loss: 0.5518 - accuracy: 0.7952 - val_loss: 0.8636 - val_accuracy: 0.6699\n",
            "Epoch 17/50\n",
            "72/72 [==============================] - 34s 480ms/step - loss: 0.5602 - accuracy: 0.7898 - val_loss: 0.8911 - val_accuracy: 0.6722\n",
            "Epoch 18/50\n",
            "72/72 [==============================] - 30s 412ms/step - loss: 0.5491 - accuracy: 0.7915 - val_loss: 0.9247 - val_accuracy: 0.6606\n",
            "Epoch 19/50\n",
            "72/72 [==============================] - 33s 462ms/step - loss: 0.5410 - accuracy: 0.7959 - val_loss: 0.8776 - val_accuracy: 0.6593\n",
            "Epoch 20/50\n",
            "72/72 [==============================] - 32s 444ms/step - loss: 0.5310 - accuracy: 0.8011 - val_loss: 0.9123 - val_accuracy: 0.6734\n",
            "Epoch 21/50\n",
            "72/72 [==============================] - 31s 426ms/step - loss: 0.5262 - accuracy: 0.8030 - val_loss: 0.8737 - val_accuracy: 0.6752\n",
            "Epoch 22/50\n",
            "72/72 [==============================] - 34s 471ms/step - loss: 0.5247 - accuracy: 0.8029 - val_loss: 0.9084 - val_accuracy: 0.6722\n",
            "Epoch 23/50\n",
            "72/72 [==============================] - 29s 401ms/step - loss: 0.5275 - accuracy: 0.8018 - val_loss: 0.9045 - val_accuracy: 0.6597\n",
            "Epoch 24/50\n",
            "72/72 [==============================] - 33s 463ms/step - loss: 0.5191 - accuracy: 0.8097 - val_loss: 0.8884 - val_accuracy: 0.6602\n",
            "Epoch 25/50\n",
            "72/72 [==============================] - 29s 406ms/step - loss: 0.5229 - accuracy: 0.8068 - val_loss: 0.9710 - val_accuracy: 0.6673\n",
            "Epoch 26/50\n",
            "72/72 [==============================] - 33s 463ms/step - loss: 0.5197 - accuracy: 0.8055 - val_loss: 0.9543 - val_accuracy: 0.6684\n",
            "Epoch 27/50\n",
            "72/72 [==============================] - 32s 444ms/step - loss: 0.5046 - accuracy: 0.8120 - val_loss: 0.8957 - val_accuracy: 0.6715\n",
            "Epoch 28/50\n",
            "72/72 [==============================] - 31s 426ms/step - loss: 0.5111 - accuracy: 0.8108 - val_loss: 0.9162 - val_accuracy: 0.6595\n",
            "Epoch 29/50\n",
            "72/72 [==============================] - 34s 475ms/step - loss: 0.5058 - accuracy: 0.8101 - val_loss: 0.9574 - val_accuracy: 0.6707\n",
            "Epoch 30/50\n",
            "72/72 [==============================] - 29s 409ms/step - loss: 0.4991 - accuracy: 0.8121 - val_loss: 0.9455 - val_accuracy: 0.6737\n",
            "Epoch 31/50\n",
            "72/72 [==============================] - 34s 469ms/step - loss: 0.4978 - accuracy: 0.8131 - val_loss: 0.9418 - val_accuracy: 0.6610\n",
            "Epoch 32/50\n",
            "72/72 [==============================] - 32s 448ms/step - loss: 0.4971 - accuracy: 0.8129 - val_loss: 0.9162 - val_accuracy: 0.6663\n",
            "Epoch 33/50\n",
            "72/72 [==============================] - 31s 432ms/step - loss: 0.4896 - accuracy: 0.8215 - val_loss: 0.9740 - val_accuracy: 0.6645\n",
            "Epoch 34/50\n",
            "72/72 [==============================] - 34s 479ms/step - loss: 0.4935 - accuracy: 0.8176 - val_loss: 0.9617 - val_accuracy: 0.6588\n",
            "Epoch 35/50\n",
            "72/72 [==============================] - 30s 414ms/step - loss: 0.4864 - accuracy: 0.8189 - val_loss: 0.9547 - val_accuracy: 0.6587\n",
            "Epoch 36/50\n",
            "72/72 [==============================] - 34s 469ms/step - loss: 0.4832 - accuracy: 0.8216 - val_loss: 0.9584 - val_accuracy: 0.6545\n",
            "Epoch 37/50\n",
            "72/72 [==============================] - 32s 443ms/step - loss: 0.4768 - accuracy: 0.8220 - val_loss: 0.9796 - val_accuracy: 0.6673\n",
            "Epoch 38/50\n",
            "72/72 [==============================] - 30s 420ms/step - loss: 0.4649 - accuracy: 0.8283 - val_loss: 1.0715 - val_accuracy: 0.6564\n",
            "Epoch 39/50\n",
            "72/72 [==============================] - 32s 450ms/step - loss: 0.4772 - accuracy: 0.8206 - val_loss: 1.0488 - val_accuracy: 0.6603\n",
            "Epoch 40/50\n",
            "72/72 [==============================] - 30s 413ms/step - loss: 0.4636 - accuracy: 0.8272 - val_loss: 1.0686 - val_accuracy: 0.6517\n",
            "Epoch 41/50\n",
            "72/72 [==============================] - 33s 461ms/step - loss: 0.4686 - accuracy: 0.8257 - val_loss: 1.0381 - val_accuracy: 0.6532\n",
            "Epoch 42/50\n",
            "72/72 [==============================] - 30s 412ms/step - loss: 0.4710 - accuracy: 0.8257 - val_loss: 0.9773 - val_accuracy: 0.6595\n",
            "Epoch 43/50\n",
            "72/72 [==============================] - 33s 457ms/step - loss: 0.4600 - accuracy: 0.8301 - val_loss: 1.0929 - val_accuracy: 0.6551\n",
            "Epoch 44/50\n",
            "72/72 [==============================] - 29s 408ms/step - loss: 0.4543 - accuracy: 0.8313 - val_loss: 1.1283 - val_accuracy: 0.6535\n",
            "Epoch 45/50\n",
            "72/72 [==============================] - 33s 459ms/step - loss: 0.4654 - accuracy: 0.8271 - val_loss: 1.0543 - val_accuracy: 0.6526\n",
            "Epoch 46/50\n",
            "72/72 [==============================] - 29s 409ms/step - loss: 0.4555 - accuracy: 0.8295 - val_loss: 1.0425 - val_accuracy: 0.6477\n",
            "Epoch 47/50\n",
            "72/72 [==============================] - 33s 453ms/step - loss: 0.4573 - accuracy: 0.8320 - val_loss: 1.0487 - val_accuracy: 0.6576\n",
            "Epoch 48/50\n",
            "72/72 [==============================] - 30s 417ms/step - loss: 0.4598 - accuracy: 0.8305 - val_loss: 1.0366 - val_accuracy: 0.6532\n",
            "Epoch 49/50\n",
            "72/72 [==============================] - 32s 448ms/step - loss: 0.4607 - accuracy: 0.8306 - val_loss: 1.0923 - val_accuracy: 0.6562\n",
            "Epoch 50/50\n",
            "72/72 [==============================] - 30s 424ms/step - loss: 0.4552 - accuracy: 0.8321 - val_loss: 1.0988 - val_accuracy: 0.6544\n"
          ]
        }
      ]
    },
    {
      "cell_type": "code",
      "source": [
        "plt.plot(LSTM_model_history.history['accuracy'])\n",
        "plt.plot(LSTM_model_history.history['val_accuracy'])\n",
        "plt.title('model accuracy')\n",
        "plt.ylabel('accuracy')\n",
        "plt.xlabel('epoch')\n",
        "plt.legend(['train', 'test'], loc='upper left')\n",
        "plt.show()\n",
        "# summarize history for loss\n",
        "plt.plot(LSTM_model_history.history['loss'])\n",
        "plt.plot(LSTM_model_history.history['val_loss'])\n",
        "plt.title('model loss')\n",
        "plt.ylabel('loss')\n",
        "plt.xlabel('epoch')\n",
        "plt.legend(['train', 'test'], loc='upper left')\n",
        "plt.show()"
      ],
      "metadata": {
        "colab": {
          "base_uri": "https://localhost:8080/",
          "height": 927
        },
        "id": "iwrcgH3aDfDL",
        "outputId": "1c4f06e7-9964-4270-829f-bc3cc868f6dc"
      },
      "execution_count": null,
      "outputs": [
        {
          "output_type": "display_data",
          "data": {
            "text/plain": [
              "<Figure size 640x480 with 1 Axes>"
            ],
            "image/png": "[encoded data removed]"
          },
          "metadata": {}
        },
        {
          "output_type": "display_data",
          "data": {
            "text/plain": [
              "<Figure size 640x480 with 1 Axes>"
            ],
            "image/png": "[encoded data removed]"
          },
          "metadata": {}
        }
      ]
    },
    {
      "cell_type": "code",
      "source": [
        "train_accuracy = LSTM_model_history.history['accuracy'][-1]\n",
        "test_accuracy = LSTM_model_history.history['val_accuracy'][-1]\n",
        "\n",
        "# Print the accuracy values\n",
        "print(f\"Training Accuracy: {train_accuracy:.4f}\")\n",
        "print(f\"Test Accuracy: {test_accuracy:.4f}\")"
      ],
      "metadata": {
        "id": "oiOhSP87SMwI",
        "outputId": "f377a0c0-62f6-4d03-c8f1-ac33f4f138b4",
        "colab": {
          "base_uri": "https://localhost:8080/"
        }
      },
      "execution_count": null,
      "outputs": [
        {
          "output_type": "stream",
          "name": "stdout",
          "text": [
            "Training Accuracy: 0.8321\n",
            "Test Accuracy: 0.6544\n"
          ]
        }
      ]
    },
    {
      "cell_type": "code",
      "source": [
        "vocab_size = len(tokenizer.word_index)+1 # 1 for that extra OOV"
      ],
      "metadata": {
        "id": "x9HG5RU4GhZr"
      },
      "execution_count": null,
      "outputs": []
    },
    {
      "cell_type": "code",
      "source": [
        "# main model\n",
        "BiLSTM = Sequential()\n",
        "BiLSTM.add(Embedding(vocab_size,100,input_length = features2.shape[1]))\n",
        "BiLSTM.add(Bidirectional (LSTM (100,return_sequences=True,dropout=0.2,recurrent_dropout=0.2, kernel_regularizer=l2(0.1)),merge_mode='concat'))\n",
        "BiLSTM.add(TimeDistributed(Dense(100,activation='relu')))\n",
        "BiLSTM.add(SpatialDropout1D(0.4))\n",
        "BiLSTM.add(Flatten())\n",
        "BiLSTM.add(Dense(2,activation='softmax'))\n",
        "BiLSTM.compile(loss='binary_crossentropy',optimizer='adam', metrics=['accuracy'])"
      ],
      "metadata": {
        "id": "Z-3FjdePGqNb"
      },
      "execution_count": null,
      "outputs": []
    },
    {
      "cell_type": "code",
      "source": [
        "batch_size = 256\n",
        "BiLSTM_model_history = BiLSTM.fit(X_train1,Y_train1, epochs = 50, batch_size=batch_size, verbose=1, validation_data=(X_val1,Y_val1))"
      ],
      "metadata": {
        "colab": {
          "base_uri": "https://localhost:8080/"
        },
        "id": "CsyEBNebGu00",
        "outputId": "da87fe10-c970-4502-9e96-665fd92714f3"
      },
      "execution_count": null,
      "outputs": [
        {
          "output_type": "stream",
          "name": "stdout",
          "text": [
            "Epoch 1/50\n",
            "43/43 [==============================] - 38s 733ms/step - loss: 18.9874 - accuracy: 0.6027 - val_loss: 8.7769 - val_accuracy: 0.7552\n",
            "Epoch 2/50\n",
            "43/43 [==============================] - 32s 742ms/step - loss: 4.6482 - accuracy: 0.8447 - val_loss: 2.0103 - val_accuracy: 0.8448\n",
            "Epoch 3/50\n",
            "43/43 [==============================] - 30s 694ms/step - loss: 1.0367 - accuracy: 0.9030 - val_loss: 0.6230 - val_accuracy: 0.8491\n",
            "Epoch 4/50\n",
            "43/43 [==============================] - 34s 804ms/step - loss: 0.3393 - accuracy: 0.9194 - val_loss: 0.4182 - val_accuracy: 0.8476\n",
            "Epoch 5/50\n",
            "43/43 [==============================] - 30s 692ms/step - loss: 0.2033 - accuracy: 0.9372 - val_loss: 0.4623 - val_accuracy: 0.8433\n",
            "Epoch 6/50\n",
            "43/43 [==============================] - 32s 749ms/step - loss: 0.1909 - accuracy: 0.9354 - val_loss: 0.4428 - val_accuracy: 0.8441\n",
            "Epoch 7/50\n",
            "43/43 [==============================] - 30s 699ms/step - loss: 0.1636 - accuracy: 0.9504 - val_loss: 0.4729 - val_accuracy: 0.8424\n",
            "Epoch 8/50\n",
            "43/43 [==============================] - 32s 739ms/step - loss: 0.1621 - accuracy: 0.9469 - val_loss: 0.4915 - val_accuracy: 0.8402\n",
            "Epoch 9/50\n",
            "43/43 [==============================] - 33s 765ms/step - loss: 0.1404 - accuracy: 0.9568 - val_loss: 0.4589 - val_accuracy: 0.8376\n",
            "Epoch 10/50\n",
            "43/43 [==============================] - 29s 677ms/step - loss: 0.1398 - accuracy: 0.9558 - val_loss: 0.5029 - val_accuracy: 0.8344\n",
            "Epoch 11/50\n",
            "43/43 [==============================] - 33s 766ms/step - loss: 0.1357 - accuracy: 0.9577 - val_loss: 0.4965 - val_accuracy: 0.8372\n",
            "Epoch 12/50\n",
            "43/43 [==============================] - 29s 680ms/step - loss: 0.1189 - accuracy: 0.9646 - val_loss: 0.5686 - val_accuracy: 0.8343\n",
            "Epoch 13/50\n",
            "43/43 [==============================] - 33s 768ms/step - loss: 0.1228 - accuracy: 0.9608 - val_loss: 0.5686 - val_accuracy: 0.8296\n",
            "Epoch 14/50\n",
            "43/43 [==============================] - 29s 684ms/step - loss: 0.1188 - accuracy: 0.9642 - val_loss: 0.6296 - val_accuracy: 0.8344\n",
            "Epoch 15/50\n",
            "43/43 [==============================] - 33s 754ms/step - loss: 0.1096 - accuracy: 0.9678 - val_loss: 0.5624 - val_accuracy: 0.8324\n",
            "Epoch 16/50\n",
            "43/43 [==============================] - 31s 718ms/step - loss: 0.1077 - accuracy: 0.9670 - val_loss: 0.6425 - val_accuracy: 0.8357\n",
            "Epoch 17/50\n",
            "43/43 [==============================] - 33s 753ms/step - loss: 0.1068 - accuracy: 0.9663 - val_loss: 0.6157 - val_accuracy: 0.8326\n",
            "Epoch 18/50\n",
            "43/43 [==============================] - 32s 744ms/step - loss: 0.1060 - accuracy: 0.9690 - val_loss: 0.5668 - val_accuracy: 0.8330\n",
            "Epoch 19/50\n",
            "43/43 [==============================] - 31s 715ms/step - loss: 0.0968 - accuracy: 0.9718 - val_loss: 0.7771 - val_accuracy: 0.8243\n",
            "Epoch 20/50\n",
            "43/43 [==============================] - 34s 794ms/step - loss: 0.1193 - accuracy: 0.9624 - val_loss: 0.6217 - val_accuracy: 0.8341\n",
            "Epoch 21/50\n",
            "43/43 [==============================] - 29s 673ms/step - loss: 0.0962 - accuracy: 0.9723 - val_loss: 0.7423 - val_accuracy: 0.8280\n",
            "Epoch 22/50\n",
            "43/43 [==============================] - 33s 780ms/step - loss: 0.0926 - accuracy: 0.9737 - val_loss: 0.6709 - val_accuracy: 0.8239\n",
            "Epoch 23/50\n",
            "43/43 [==============================] - 32s 748ms/step - loss: 0.0976 - accuracy: 0.9700 - val_loss: 0.6727 - val_accuracy: 0.8248\n",
            "Epoch 24/50\n",
            "43/43 [==============================] - 31s 716ms/step - loss: 0.0902 - accuracy: 0.9735 - val_loss: 0.7042 - val_accuracy: 0.8220\n",
            "Epoch 25/50\n",
            "43/43 [==============================] - 35s 814ms/step - loss: 0.0873 - accuracy: 0.9754 - val_loss: 0.6594 - val_accuracy: 0.8185\n",
            "Epoch 26/50\n",
            "43/43 [==============================] - 29s 687ms/step - loss: 0.0911 - accuracy: 0.9738 - val_loss: 0.8958 - val_accuracy: 0.8269\n",
            "Epoch 27/50\n",
            "43/43 [==============================] - 32s 747ms/step - loss: 0.0866 - accuracy: 0.9746 - val_loss: 0.8644 - val_accuracy: 0.8243\n",
            "Epoch 28/50\n",
            "43/43 [==============================] - 30s 711ms/step - loss: 0.0866 - accuracy: 0.9745 - val_loss: 0.7342 - val_accuracy: 0.8244\n",
            "Epoch 29/50\n",
            "43/43 [==============================] - 32s 749ms/step - loss: 0.0841 - accuracy: 0.9758 - val_loss: 0.7050 - val_accuracy: 0.8213\n",
            "Epoch 30/50\n",
            "43/43 [==============================] - 32s 739ms/step - loss: 0.0870 - accuracy: 0.9724 - val_loss: 0.8503 - val_accuracy: 0.8246\n",
            "Epoch 31/50\n",
            "43/43 [==============================] - 30s 698ms/step - loss: 0.0873 - accuracy: 0.9747 - val_loss: 0.8204 - val_accuracy: 0.8241\n",
            "Epoch 32/50\n",
            "43/43 [==============================] - 34s 808ms/step - loss: 0.0797 - accuracy: 0.9764 - val_loss: 0.7747 - val_accuracy: 0.8257\n",
            "Epoch 33/50\n",
            "43/43 [==============================] - 29s 686ms/step - loss: 0.0875 - accuracy: 0.9731 - val_loss: 0.9205 - val_accuracy: 0.8180\n",
            "Epoch 34/50\n",
            "43/43 [==============================] - 34s 788ms/step - loss: 0.0885 - accuracy: 0.9747 - val_loss: 0.7395 - val_accuracy: 0.8202\n",
            "Epoch 35/50\n",
            "43/43 [==============================] - 30s 694ms/step - loss: 0.0815 - accuracy: 0.9767 - val_loss: 0.6981 - val_accuracy: 0.8222\n",
            "Epoch 36/50\n",
            "43/43 [==============================] - 32s 738ms/step - loss: 0.0846 - accuracy: 0.9759 - val_loss: 0.8440 - val_accuracy: 0.8076\n",
            "Epoch 37/50\n",
            "43/43 [==============================] - 32s 748ms/step - loss: 0.1044 - accuracy: 0.9687 - val_loss: 0.7371 - val_accuracy: 0.8243\n",
            "Epoch 38/50\n",
            "43/43 [==============================] - 30s 680ms/step - loss: 0.0783 - accuracy: 0.9781 - val_loss: 0.8663 - val_accuracy: 0.8206\n",
            "Epoch 39/50\n",
            "43/43 [==============================] - 33s 773ms/step - loss: 0.0751 - accuracy: 0.9776 - val_loss: 0.8195 - val_accuracy: 0.8159\n",
            "Epoch 40/50\n",
            "43/43 [==============================] - 29s 673ms/step - loss: 0.0748 - accuracy: 0.9775 - val_loss: 1.0598 - val_accuracy: 0.8170\n",
            "Epoch 41/50\n",
            "43/43 [==============================] - 33s 769ms/step - loss: 0.0806 - accuracy: 0.9769 - val_loss: 0.7740 - val_accuracy: 0.8159\n",
            "Epoch 42/50\n",
            "43/43 [==============================] - 28s 666ms/step - loss: 0.0804 - accuracy: 0.9763 - val_loss: 0.9094 - val_accuracy: 0.8133\n",
            "Epoch 43/50\n",
            "43/43 [==============================] - 33s 774ms/step - loss: 0.0774 - accuracy: 0.9769 - val_loss: 0.9477 - val_accuracy: 0.8176\n",
            "Epoch 44/50\n",
            "43/43 [==============================] - 29s 682ms/step - loss: 0.0720 - accuracy: 0.9800 - val_loss: 0.9182 - val_accuracy: 0.8170\n",
            "Epoch 45/50\n",
            "43/43 [==============================] - 32s 748ms/step - loss: 0.0753 - accuracy: 0.9780 - val_loss: 1.0824 - val_accuracy: 0.8117\n",
            "Epoch 46/50\n",
            "43/43 [==============================] - 32s 741ms/step - loss: 0.0839 - accuracy: 0.9743 - val_loss: 0.8665 - val_accuracy: 0.8115\n",
            "Epoch 47/50\n",
            "43/43 [==============================] - 30s 688ms/step - loss: 0.0692 - accuracy: 0.9804 - val_loss: 1.0434 - val_accuracy: 0.8159\n",
            "Epoch 48/50\n",
            "43/43 [==============================] - 32s 744ms/step - loss: 0.0675 - accuracy: 0.9809 - val_loss: 1.1401 - val_accuracy: 0.8133\n",
            "Epoch 49/50\n",
            "43/43 [==============================] - 29s 668ms/step - loss: 0.0672 - accuracy: 0.9808 - val_loss: 1.1670 - val_accuracy: 0.8100\n",
            "Epoch 50/50\n",
            "43/43 [==============================] - 33s 761ms/step - loss: 0.0717 - accuracy: 0.9787 - val_loss: 0.9284 - val_accuracy: 0.8124\n"
          ]
        }
      ]
    },
    {
      "cell_type": "code",
      "source": [
        "plt.plot(BiLSTM_model_history.history['accuracy'])\n",
        "plt.plot(BiLSTM_model_history.history['val_accuracy'])\n",
        "plt.title('model accuracy')\n",
        "plt.ylabel('accuracy')\n",
        "plt.xlabel('epoch')\n",
        "plt.legend(['train', 'test'], loc='upper left')\n",
        "plt.show()"
      ],
      "metadata": {
        "colab": {
          "base_uri": "https://localhost:8080/",
          "height": 472
        },
        "id": "NbbjYizOP1NW",
        "outputId": "013f468e-2009-41a0-d13d-8d96a93ae142"
      },
      "execution_count": null,
      "outputs": [
        {
          "output_type": "display_data",
          "data": {
            "text/plain": [
              "<Figure size 640x480 with 1 Axes>"
            ],
            "image/png": "[encoded data removed]"
          },
          "metadata": {}
        }
      ]
    },
    {
      "cell_type": "code",
      "source": [
        "# summarize history for loss\n",
        "plt.plot(BiLSTM_model_history.history['loss'])\n",
        "plt.plot(BiLSTM_model_history.history['val_loss'])\n",
        "plt.title('model loss')\n",
        "plt.ylabel('loss')\n",
        "plt.xlabel('epoch')\n",
        "plt.legend(['train', 'test'], loc='upper left')\n",
        "plt.show()"
      ],
      "metadata": {
        "colab": {
          "base_uri": "https://localhost:8080/",
          "height": 472
        },
        "id": "jCdnarEzP4fc",
        "outputId": "273d41a2-eb8a-44e8-8300-f6d7ae4e03c8"
      },
      "execution_count": null,
      "outputs": [
        {
          "output_type": "display_data",
          "data": {
            "text/plain": [
              "<Figure size 640x480 with 1 Axes>"
            ],
            "image/png": "[encoded data removed]"
          },
          "metadata": {}
        }
      ]
    },
    {
      "cell_type": "code",
      "source": [
        "# Get the final training and test accuracy values\n",
        "train_accuracy = BiLSTM_model_history.history['accuracy'][-1]\n",
        "test_accuracy = BiLSTM_model_history.history['val_accuracy'][-1]\n",
        "\n",
        "# Print the accuracy values\n",
        "print(f\"Training Accuracy: {train_accuracy:.4f}\")\n",
        "print(f\"Test Accuracy: {test_accuracy:.4f}\")\n"
      ],
      "metadata": {
        "colab": {
          "base_uri": "https://localhost:8080/"
        },
        "id": "K8W-zmEcRQSs",
        "outputId": "de2667be-fc4a-4bca-a8f5-ad7e8b2fe5e0"
      },
      "execution_count": null,
      "outputs": [
        {
          "output_type": "stream",
          "name": "stdout",
          "text": [
            "Training Accuracy: 0.9787\n",
            "Test Accuracy: 0.8124\n"
          ]
        }
      ]
    },
    {
      "cell_type": "code",
      "source": [],
      "metadata": {
        "id": "yvwHB1JP04kH"
      },
      "execution_count": null,
      "outputs": []
    },
    {
      "cell_type": "code",
      "source": [
        "import numpy as np\n",
        "import pandas as pd\n",
        "from tabulate import tabulate\n",
        "\n",
        "# ... (your existing code)\n",
        "\n",
        "# Creating a DataFrame for better visualization\n",
        "predictions_df = pd.DataFrame({\n",
        "    'Text': [tokenizer.sequences_to_texts([sequence])[0] for sequence in X_val],\n",
        "    'True Sentiment': true_labels,\n",
        "    'Predicted Sentiment': predicted_labels\n",
        "})\n",
        "\n",
        "# Display the DataFrame using tabulate\n",
        "print(tabulate(predictions_df.head(10), headers='keys', tablefmt='pretty', showindex=False))\n",
        "\n",
        "# Visualizing a few randomly selected tweets and their predictions\n",
        "for _ in range(10):\n",
        "    index = np.random.randint(0, len(X_val))\n",
        "    tweet = predictions_df.iloc[index]['Text']\n",
        "    true_sentiment = predictions_df.iloc[index]['True Sentiment']\n",
        "    predicted_sentiment = predictions_df.iloc[index]['Predicted Sentiment']\n",
        "\n",
        "    print(f\"Tweet: {tweet}\")\n",
        "    print(f\"True Sentiment: {true_sentiment}\")\n",
        "    print(f\"Predicted Sentiment: {predicted_sentiment}\")\n",
        "    print(\"\\n\")\n"
      ],
      "metadata": {
        "id": "BbHuQH_6RYnc",
        "colab": {
          "base_uri": "https://localhost:8080/"
        },
        "outputId": "05c8f06b-248d-4020-80bb-07792f0f4d03"
      },
      "execution_count": null,
      "outputs": [
        {
          "output_type": "stream",
          "name": "stdout",
          "text": [
            "+------------------------------------------------------------------------------------------------------------------------------------------------------------+----------------+---------------------+\n",
            "|                                                                            Text                                                                            | True Sentiment | Predicted Sentiment |\n",
            "+------------------------------------------------------------------------------------------------------------------------------------------------------------+----------------+---------------------+\n",
            "|         OOV are you coming to OOV at any point OOV OOV OOV OOV OOV OOV OOV OOV OOV OOV OOV OOV OOV OOV OOV OOV OOV OOV OOV OOV OOV OOV OOV OOV OOV         |    positive    |      negative       |\n",
            "|       resting had a whole day of walking OOV OOV OOV OOV OOV OOV OOV OOV OOV OOV OOV OOV OOV OOV OOV OOV OOV OOV OOV OOV OOV OOV OOV OOV OOV OOV OOV       |    negative    |      negative       |\n",
            "|         was in OOV a couple of days ago i ll try to post pictures tom OOV OOV OOV OOV OOV OOV OOV OOV OOV OOV OOV OOV OOV OOV OOV OOV OOV OOV OOV          |    negative    |      negative       |\n",
            "|            i know i m so slow its horrible don t tell on me OOV OOV OOV OOV OOV OOV OOV OOV OOV OOV OOV OOV OOV OOV OOV OOV OOV OOV OOV OOV OOV            |    neutral     |       neutral       |\n",
            "|             glad i went out glad i didn t leave early and glad to be OOV it up OOV s i m back OOV OOV OOV OOV OOV OOV OOV OOV OOV OOV OOV OOV              |    positive    |      positive       |\n",
            "|       OOV are the drugs working OOV OOV OOV OOV OOV OOV OOV OOV OOV OOV OOV OOV OOV OOV OOV OOV OOV OOV OOV OOV OOV OOV OOV OOV OOV OOV OOV OOV OOV        |    negative    |      negative       |\n",
            "|     deleted a OOV of facebook friends ask to be my friend again if you want if not OOV OOV OOV OOV OOV OOV OOV OOV OOV OOV OOV OOV OOV OOV OOV OOV OOV     |    neutral     |      negative       |\n",
            "| oh dear it will be late there good ol michigan well i look forward to chatting with you when our OOV hours OOV OOV OOV OOV OOV OOV OOV OOV OOV OOV OOV OOV |    positive    |      positive       |\n",
            "|     i bet its cool down in OOV huh it s not here i haven t stopped sweating since noon when dad and i were packing OOV OOV OOV OOV OOV OOV OOV OOV OOV     |    neutral     |       neutral       |\n",
            "|      wee done with advance OOV paper OOV OOV OOV OOV OOV OOV OOV OOV OOV OOV OOV OOV OOV OOV OOV OOV OOV OOV OOV OOV OOV OOV OOV OOV OOV OOV OOV OOV       |    negative    |      negative       |\n",
            "+------------------------------------------------------------------------------------------------------------------------------------------------------------+----------------+---------------------+\n",
            "Tweet: going home OOV OOV OOV OOV OOV OOV OOV OOV OOV OOV OOV OOV OOV OOV OOV OOV OOV OOV OOV OOV OOV OOV OOV OOV OOV OOV OOV OOV OOV OOV OOV OOV\n",
            "True Sentiment: negative\n",
            "Predicted Sentiment: negative\n",
            "\n",
            "\n",
            "Tweet: OOV ohh that s awesome of you probably OOV gotten OOV tickets outta it from the OOV queens lol OOV OOV OOV OOV OOV OOV OOV OOV OOV OOV OOV OOV OOV OOV OOV\n",
            "True Sentiment: positive\n",
            "Predicted Sentiment: positive\n",
            "\n",
            "\n",
            "Tweet: feelin nice after this bottle of OOV OOV OOV OOV OOV OOV OOV OOV OOV OOV OOV OOV OOV OOV OOV OOV OOV OOV OOV OOV OOV OOV OOV OOV OOV OOV OOV OOV\n",
            "True Sentiment: positive\n",
            "Predicted Sentiment: positive\n",
            "\n",
            "\n",
            "Tweet: happy mother s day hope you have a great one with OOV your mom and those you love you re such an awesome mommy OOV OOV OOV OOV OOV OOV OOV OOV OOV OOV\n",
            "True Sentiment: positive\n",
            "Predicted Sentiment: positive\n",
            "\n",
            "\n",
            "Tweet: after hearing susan OOV sing she came off as the most beautiful person i d ever seen i feel bad for my first impression though OOV OOV OOV OOV OOV OOV OOV OOV OOV\n",
            "True Sentiment: negative\n",
            "Predicted Sentiment: positive\n",
            "\n",
            "\n",
            "Tweet: finally upgraded to spotify OOV OOV my OOV of awesomeness some time ago now where s the iphone app remote OOV OOV OOV OOV OOV OOV OOV OOV OOV OOV OOV OOV OOV OOV\n",
            "True Sentiment: positive\n",
            "Predicted Sentiment: positive\n",
            "\n",
            "\n",
            "Tweet: happy mothers day to all the mommys OOV OOV OOV OOV OOV OOV OOV OOV OOV OOV OOV OOV OOV OOV OOV OOV OOV OOV OOV OOV OOV OOV OOV OOV OOV OOV OOV\n",
            "True Sentiment: positive\n",
            "Predicted Sentiment: positive\n",
            "\n",
            "\n",
            "Tweet: OOV they wait until the last minute to run an experiment at OOV i have to OOV aka i dont get to leave work on time OOV OOV OOV OOV OOV OOV OOV OOV\n",
            "True Sentiment: negative\n",
            "Predicted Sentiment: negative\n",
            "\n",
            "\n",
            "Tweet: good morning OOV OOV OOV OOV OOV OOV OOV OOV OOV OOV OOV OOV OOV OOV OOV OOV OOV OOV OOV OOV OOV OOV OOV OOV OOV OOV OOV OOV OOV OOV OOV OOV\n",
            "True Sentiment: positive\n",
            "Predicted Sentiment: positive\n",
            "\n",
            "\n",
            "Tweet: just finished watching he s just not that into you loved it OOV OOV OOV OOV OOV OOV OOV OOV OOV OOV OOV OOV OOV OOV OOV OOV OOV OOV OOV OOV OOV OOV\n",
            "True Sentiment: positive\n",
            "Predicted Sentiment: positive\n",
            "\n",
            "\n"
          ]
        }
      ]
    },
    {
      "cell_type": "code",
      "source": [
        "# Predictions on validation data for BiLSTM model\n",
        "predictions_BiLSTM = BiLSTM.predict(X_val1)\n",
        "\n",
        "# Ensure the predictions have the correct shape\n",
        "if predictions_BiLSTM.shape[1] > 1:\n",
        "    # For multiclass classification, use argmax\n",
        "    predicted_labels_BiLSTM = [list(train_dataset_without_neutral['sentiment'].unique())[np.argmax(prediction)] for prediction in predictions_BiLSTM]\n",
        "else:\n",
        "    # For binary classification, round the probabilities\n",
        "    predicted_labels_BiLSTM = ['positive' if prediction > 0.5 else 'negative' for prediction in predictions_BiLSTM]\n",
        "\n",
        "# Map true labels to sentiment categories\n",
        "true_labels_BiLSTM = [list(train_dataset_without_neutral['sentiment'].unique())[np.argmax(label)] for label in Y_val1]\n",
        "\n",
        "# Creating a DataFrame for better visualization for BiLSTM model\n",
        "predictions_df_BiLSTM = pd.DataFrame({\n",
        "    'Text': [tokenizer2.sequences_to_texts([sequence])[0] for sequence in X_val1],\n",
        "    'True Sentiment': true_labels_BiLSTM,\n",
        "    'Predicted Sentiment': predicted_labels_BiLSTM\n",
        "})\n",
        "\n",
        "# Display the DataFrame for BiLSTM model using tabulate\n",
        "print(tabulate(predictions_df_BiLSTM.head(10), headers='keys', tablefmt='pretty', showindex=False))\n",
        "\n",
        "# Visualizing a few randomly selected tweets and their predictions for BiLSTM model\n",
        "for _ in range(20):\n",
        "    index = np.random.randint(0, len(X_val1))\n",
        "    tweet = predictions_df_BiLSTM.iloc[index]['Text']\n",
        "    true_sentiment = predictions_df_BiLSTM.iloc[index]['True Sentiment']\n",
        "    predicted_sentiment = predictions_df_BiLSTM.iloc[index]['Predicted Sentiment']\n",
        "\n",
        "    print(f\"Tweet: {tweet}\")\n",
        "    print(f\"True Sentiment: {true_sentiment}\")\n",
        "    print(f\"Predicted Sentiment: {predicted_sentiment}\")\n",
        "    print(\"\\n\")\n"
      ],
      "metadata": {
        "colab": {
          "base_uri": "https://localhost:8080/"
        },
        "id": "bwFFRTGb069R",
        "outputId": "a3bce416-2ca2-4827-a08c-723442146a57"
      },
      "execution_count": null,
      "outputs": [
        {
          "output_type": "stream",
          "name": "stdout",
          "text": [
            "169/169 [==============================] - 4s 22ms/step\n",
            "+---------------------------------------------------------------------------------------------------------------------------------------------------------+----------------+---------------------+\n",
            "|                                                                          Text                                                                           | True Sentiment | Predicted Sentiment |\n",
            "+---------------------------------------------------------------------------------------------------------------------------------------------------------+----------------+---------------------+\n",
            "|         thanks will try to OOV OOV OOV OOV OOV OOV OOV OOV OOV OOV OOV OOV OOV OOV OOV OOV OOV OOV OOV OOV OOV OOV OOV OOV OOV OOV OOV OOV OOV          |    positive    |      positive       |\n",
            "|   today is lame because i am not in orlando i am soooo looking forward to next friday OOV OOV OOV OOV OOV OOV OOV OOV OOV OOV OOV OOV OOV OOV OOV OOV   |    negative    |      negative       |\n",
            "|      hahahaha i laughed my off just now thanks OOV OOV OOV OOV OOV OOV OOV OOV OOV OOV OOV OOV OOV OOV OOV OOV OOV OOV OOV OOV OOV OOV OOV OOV OOV      |    positive    |      positive       |\n",
            "|        gahh this weather OOV OOV OOV OOV OOV OOV OOV OOV OOV OOV OOV OOV OOV OOV OOV OOV OOV OOV OOV OOV OOV OOV OOV OOV OOV OOV OOV OOV OOV OOV        |    negative    |      negative       |\n",
            "|     OOV in love with enter OOV again might go for a walk with the lady later now though OOV OOV OOV OOV OOV OOV OOV OOV OOV OOV OOV OOV OOV OOV OOV     |    positive    |      positive       |\n",
            "|        ten update away from 2000 OOV OOV OOV OOV OOV OOV OOV OOV OOV OOV OOV OOV OOV OOV OOV OOV OOV OOV OOV OOV OOV OOV OOV OOV OOV OOV OOV OOV        |    positive    |      negative       |\n",
            "|   im thinking that im going to have fun OOV maybe some changes are coming OOV OOV OOV OOV OOV OOV OOV OOV OOV OOV OOV OOV OOV OOV OOV OOV OOV OOV OOV   |    positive    |      negative       |\n",
            "| sitting in boring OOV listening to jack johnson missing the gf OOV much OOV OOV OOV OOV OOV OOV OOV OOV OOV OOV OOV OOV OOV OOV OOV OOV OOV OOV OOV OOV |    negative    |      negative       |\n",
            "|          oh but that girl but OOV OOV OOV OOV OOV OOV OOV OOV OOV OOV OOV OOV OOV OOV OOV OOV OOV OOV OOV OOV OOV OOV OOV OOV OOV OOV OOV OOV           |    negative    |      negative       |\n",
            "|        i ve been losing myself into too many OOV OOV this is not good xd but wu OOV OOV OOV OOV OOV OOV OOV OOV OOV OOV OOV OOV OOV OOV OOV OOV         |    negative    |      negative       |\n",
            "+---------------------------------------------------------------------------------------------------------------------------------------------------------+----------------+---------------------+\n",
            "Tweet: i have the OOV OOV all over my legs and arms what the heck am i allergic to it itches so bad dang it OOV OOV OOV OOV OOV OOV OOV OOV OOV\n",
            "True Sentiment: negative\n",
            "Predicted Sentiment: negative\n",
            "\n",
            "\n",
            "Tweet: the geek in me won i am building my own OOV theme OOV OOV OOV OOV OOV OOV OOV OOV OOV OOV OOV OOV OOV OOV OOV OOV OOV OOV OOV OOV OOV\n",
            "True Sentiment: positive\n",
            "Predicted Sentiment: negative\n",
            "\n",
            "\n",
            "Tweet: when we were poor and lived in germany it was our favourite cheap saturday now we have one OOV away OOV OOV OOV OOV OOV OOV OOV OOV OOV OOV OOV OOV OOV\n",
            "True Sentiment: positive\n",
            "Predicted Sentiment: negative\n",
            "\n",
            "\n",
            "Tweet: it looks like you have a lot of fun with lady gaga OOV OOV OOV OOV OOV OOV OOV OOV OOV OOV OOV OOV OOV OOV OOV OOV OOV OOV OOV OOV OOV\n",
            "True Sentiment: positive\n",
            "Predicted Sentiment: positive\n",
            "\n",
            "\n",
            "Tweet: OOV idk how to do that but i only wanna stop getting texts from OOV OOV OOV OOV OOV OOV OOV OOV OOV OOV OOV OOV OOV OOV OOV OOV OOV OOV OOV\n",
            "True Sentiment: negative\n",
            "Predicted Sentiment: negative\n",
            "\n",
            "\n",
            "Tweet: is also very excited for the OOV squad OOV im rooting for em their new song OOV OOV OOV OOV OOV OOV OOV OOV OOV OOV OOV OOV OOV OOV OOV OOV OOV\n",
            "True Sentiment: positive\n",
            "Predicted Sentiment: positive\n",
            "\n",
            "\n",
            "Tweet: see sucked you right in the only problem will be OOV race OOV but that s why god gave us dvr d OOV OOV OOV OOV OOV OOV OOV OOV OOV OOV OOV\n",
            "True Sentiment: negative\n",
            "Predicted Sentiment: negative\n",
            "\n",
            "\n",
            "Tweet: its a bank holiday stupid wait they don t have bank holidays in america okay keep on OOV OOV OOV OOV OOV OOV OOV OOV OOV OOV OOV OOV OOV OOV OOV OOV\n",
            "True Sentiment: positive\n",
            "Predicted Sentiment: negative\n",
            "\n",
            "\n",
            "Tweet: i m my mom s company picnic at a lake OOV storm game oh the things we do to please moms OOV OOV OOV OOV OOV OOV OOV OOV OOV OOV OOV OOV\n",
            "True Sentiment: positive\n",
            "Predicted Sentiment: negative\n",
            "\n",
            "\n",
            "Tweet: my bff rocking hotel california now no songs done stay the same what s next hmmm careless OOV OOV OOV OOV OOV OOV OOV OOV OOV OOV OOV OOV OOV OOV OOV OOV\n",
            "True Sentiment: negative\n",
            "Predicted Sentiment: negative\n",
            "\n",
            "\n",
            "Tweet: my paradise fly OOV abandoned their nest they are starting again but it s gonna b tough OOV OOV OOV OOV OOV OOV OOV OOV OOV OOV OOV OOV OOV OOV OOV OOV\n",
            "True Sentiment: negative\n",
            "Predicted Sentiment: negative\n",
            "\n",
            "\n",
            "Tweet: and i m not getting another one there s only 1 OOV OOV OOV OOV OOV OOV OOV OOV OOV OOV OOV OOV OOV OOV OOV OOV OOV OOV OOV OOV OOV OOV\n",
            "True Sentiment: negative\n",
            "Predicted Sentiment: negative\n",
            "\n",
            "\n",
            "Tweet: i feel like crying one of my diamond earrings fell out my ear bc it was loose and i can t find it i ve had them forever OOV OOV OOV OOV OOV\n",
            "True Sentiment: negative\n",
            "Predicted Sentiment: negative\n",
            "\n",
            "\n",
            "Tweet: wish i was home in time for the OOV today OOV OOV OOV OOV OOV OOV OOV OOV OOV OOV OOV OOV OOV OOV OOV OOV OOV OOV OOV OOV OOV OOV OOV\n",
            "True Sentiment: positive\n",
            "Predicted Sentiment: positive\n",
            "\n",
            "\n",
            "Tweet: today was a lovely day i had fun with and this evening OOV OOV OOV OOV OOV OOV OOV OOV OOV OOV OOV OOV OOV OOV OOV OOV OOV OOV OOV OOV OOV\n",
            "True Sentiment: positive\n",
            "Predicted Sentiment: positive\n",
            "\n",
            "\n",
            "Tweet: m melted maybe 2 square inches of skin ran it under cold water for a min or two and then iced until the ice melted now hurts OOV OOV OOV OOV OOV OOV\n",
            "True Sentiment: negative\n",
            "Predicted Sentiment: negative\n",
            "\n",
            "\n",
            "Tweet: happy mother s day mama bear OOV OOV OOV OOV OOV OOV OOV OOV OOV OOV OOV OOV OOV OOV OOV OOV OOV OOV OOV OOV OOV OOV OOV OOV OOV OOV OOV\n",
            "True Sentiment: positive\n",
            "Predicted Sentiment: positive\n",
            "\n",
            "\n",
            "Tweet: so sad your mom must be very OOV up peace and OOV to her and the dear family that lost their little girl OOV OOV OOV OOV OOV OOV OOV OOV OOV OOV\n",
            "True Sentiment: negative\n",
            "Predicted Sentiment: negative\n",
            "\n",
            "\n",
            "Tweet: don t know it really hurt my arm guess you have to booze me or just ask or if you don t believe me OOV OOV OOV OOV OOV OOV OOV OOV OOV\n",
            "True Sentiment: negative\n",
            "Predicted Sentiment: negative\n",
            "\n",
            "\n",
            "Tweet: no labels sorry i know i m really OOV OOV OOV OOV OOV OOV OOV OOV OOV OOV OOV OOV OOV OOV OOV OOV OOV OOV OOV OOV OOV OOV OOV OOV OOV\n",
            "True Sentiment: negative\n",
            "Predicted Sentiment: negative\n",
            "\n",
            "\n"
          ]
        }
      ]
    }
  ]
}